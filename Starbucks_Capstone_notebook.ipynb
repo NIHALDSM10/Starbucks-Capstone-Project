{
 "cells": [
  {
   "cell_type": "markdown",
   "metadata": {},
   "source": [
    "# Starbucks Capstone Challenge\n",
    "\n",
    "### Introduction\n",
    "\n",
    "This data set contains simulated data that mimics customer behavior on the Starbucks rewards mobile app. Once every few days, Starbucks sends out an offer to users of the mobile app. An offer can be merely an advertisement for a drink or an actual offer such as a discount or BOGO (buy one get one free). Some users might not receive any offer during certain weeks. \n",
    "\n",
    "Not all users receive the same offer, and that is the challenge to solve with this data set.\n",
    "\n",
    "Your task is to combine transaction, demographic and offer data to determine which demographic groups respond best to which offer type. This data set is a simplified version of the real Starbucks app because the underlying simulator only has one product whereas Starbucks actually sells dozens of products.\n",
    "\n",
    "Every offer has a validity period before the offer expires. As an example, a BOGO offer might be valid for only 5 days. You'll see in the data set that informational offers have a validity period even though these ads are merely providing information about a product; for example, if an informational offer has 7 days of validity, you can assume the customer is feeling the influence of the offer for 7 days after receiving the advertisement.\n",
    "\n",
    "You'll be given transactional data showing user purchases made on the app including the timestamp of purchase and the amount of money spent on a purchase. This transactional data also has a record for each offer that a user receives as well as a record for when a user actually views the offer. There are also records for when a user completes an offer. \n",
    "\n",
    "Keep in mind as well that someone using the app might make a purchase through the app without having received an offer or seen an offer.\n",
    "\n",
    "### Example\n",
    "\n",
    "To give an example, a user could receive a discount offer buy 10 dollars get 2 off on Monday. The offer is valid for 10 days from receipt. If the customer accumulates at least 10 dollars in purchases during the validity period, the customer completes the offer.\n",
    "\n",
    "However, there are a few things to watch out for in this data set. Customers do not opt into the offers that they receive; in other words, a user can receive an offer, never actually view the offer, and still complete the offer. For example, a user might receive the \"buy 10 dollars get 2 dollars off offer\", but the user never opens the offer during the 10 day validity period. The customer spends 15 dollars during those ten days. There will be an offer completion record in the data set; however, the customer was not influenced by the offer because the customer never viewed the offer.\n",
    "\n",
    "### Cleaning\n",
    "\n",
    "This makes data cleaning especially important and tricky.\n",
    "\n",
    "You'll also want to take into account that some demographic groups will make purchases even if they don't receive an offer. From a business perspective, if a customer is going to make a 10 dollar purchase without an offer anyway, you wouldn't want to send a buy 10 dollars get 2 dollars off offer. You'll want to try to assess what a certain demographic group will buy when not receiving any offers.\n",
    "\n",
    "### Final Advice\n",
    "\n",
    "Because this is a capstone project, you are free to analyze the data any way you see fit. For example, you could build a machine learning model that predicts how much someone will spend based on demographics and offer type. Or you could build a model that predicts whether or not someone will respond to an offer. Or, you don't need to build a machine learning model at all. You could develop a set of heuristics that determine what offer you should send to each customer (i.e., 75 percent of women customers who were 35 years old responded to offer A vs 40 percent from the same demographic to offer B, so send offer A)."
   ]
  },
  {
   "cell_type": "markdown",
   "metadata": {},
   "source": [
    "# Data Sets\n",
    "\n",
    "The data is contained in three files:\n",
    "\n",
    "* portfolio.json - containing offer ids and meta data about each offer (duration, type, etc.)\n",
    "* profile.json - demographic data for each customer\n",
    "* transcript.json - records for transactions, offers received, offers viewed, and offers completed\n",
    "\n",
    "Here is the schema and explanation of each variable in the files:\n",
    "\n",
    "**portfolio.json**\n",
    "* id (string) - offer id\n",
    "* offer_type (string) - type of offer ie BOGO, discount, informational\n",
    "* difficulty (int) - minimum required spend to complete an offer\n",
    "* reward (int) - reward given for completing an offer\n",
    "* duration (int) - time for offer to be open, in days\n",
    "* channels (list of strings)\n",
    "\n",
    "**profile.json**\n",
    "* age (int) - age of the customer \n",
    "* became_member_on (int) - date when customer created an app account\n",
    "* gender (str) - gender of the customer (note some entries contain 'O' for other rather than M or F)\n",
    "* id (str) - customer id\n",
    "* income (float) - customer's income\n",
    "\n",
    "**transcript.json**\n",
    "* event (str) - record description (ie transaction, offer received, offer viewed, etc.)\n",
    "* person (str) - customer id\n",
    "* time (int) - time in hours since start of test. The data begins at time t=0\n",
    "* value - (dict of strings) - either an offer id or transaction amount depending on the record\n",
    "\n",
    "**Note:** If you are using the workspace, you will need to go to the terminal and run the command `conda update pandas` before reading in the files. This is because the version of pandas in the workspace cannot read in the transcript.json file correctly, but the newest version of pandas can. You can access the termnal from the orange icon in the top left of this notebook.  \n",
    "\n",
    "You can see how to access the terminal and how the install works using the two images below.  First you need to access the terminal:\n",
    "\n",
    "<img src=\"pic1.png\"/>\n",
    "\n",
    "Then you will want to run the above command:\n",
    "\n",
    "<img src=\"pic2.png\"/>\n",
    "\n",
    "Finally, when you enter back into the notebook (use the jupyter icon again), you should be able to run the below cell without any errors."
   ]
  },
  {
   "cell_type": "code",
   "execution_count": 1388,
   "metadata": {},
   "outputs": [],
   "source": [
    "import pandas as pd\n",
    "import numpy as np\n",
    "import math\n",
    "import json\n",
    "import seaborn as sns\n",
    "import matplotlib\n",
    "import matplotlib.pyplot as plt\n",
    "from sklearn.model_selection import train_test_split\n",
    "from sklearn.neighbors import KNeighborsClassifier\n",
    "from sklearn.svm import SVC\n",
    "from sklearn.metrics import classification_report"
   ]
  },
  {
   "cell_type": "code",
   "execution_count": 753,
   "metadata": {},
   "outputs": [],
   "source": [
    "# read in the json files\n",
    "portfolio = pd.read_json('data/portfolio.json', orient='records', lines=True)\n",
    "profile = pd.read_json('data/profile.json', orient='records', lines=True)\n",
    "transcript = pd.read_json('data/transcript.json', orient='records', lines=True)"
   ]
  },
  {
   "cell_type": "markdown",
   "metadata": {},
   "source": [
    "## Business Understanding"
   ]
  },
  {
   "cell_type": "markdown",
   "metadata": {},
   "source": [
    "Through this capstone project I want to understand the following:\n",
    "1. How does offer response depend on gender, age and income? \n",
    "2. What type of demographic is least affected by offers?\n",
    "3. What are the top 2 offers for each customer segment?\n",
    "4. If we're given demographic features about a customer, how can we determine if they'll respond to a BOGO or a discount offer?"
   ]
  },
  {
   "cell_type": "markdown",
   "metadata": {},
   "source": [
    "## Data Understanding"
   ]
  },
  {
   "cell_type": "markdown",
   "metadata": {},
   "source": [
    "### Understanding the build of the dataframes"
   ]
  },
  {
   "cell_type": "code",
   "execution_count": 754,
   "metadata": {},
   "outputs": [
    {
     "name": "stdout",
     "output_type": "stream",
     "text": [
      "(10, 6)\n",
      "(17000, 5)\n",
      "(306534, 4)\n"
     ]
    }
   ],
   "source": [
    "# Find out shape of the different dataframes\n",
    "print(portfolio.shape)\n",
    "print(profile.shape)\n",
    "print(transcript.shape)"
   ]
  },
  {
   "cell_type": "code",
   "execution_count": 1288,
   "metadata": {},
   "outputs": [
    {
     "name": "stdout",
     "output_type": "stream",
     "text": [
      "<class 'pandas.core.frame.DataFrame'>\n",
      "RangeIndex: 10 entries, 0 to 9\n",
      "Data columns (total 6 columns):\n",
      " #   Column      Non-Null Count  Dtype \n",
      "---  ------      --------------  ----- \n",
      " 0   reward      10 non-null     int64 \n",
      " 1   channels    10 non-null     object\n",
      " 2   difficulty  10 non-null     int64 \n",
      " 3   duration    10 non-null     int64 \n",
      " 4   offer_type  10 non-null     object\n",
      " 5   id          10 non-null     object\n",
      "dtypes: int64(3), object(3)\n",
      "memory usage: 608.0+ bytes\n",
      "None\n",
      "<class 'pandas.core.frame.DataFrame'>\n",
      "RangeIndex: 17000 entries, 0 to 16999\n",
      "Data columns (total 5 columns):\n",
      " #   Column            Non-Null Count  Dtype  \n",
      "---  ------            --------------  -----  \n",
      " 0   gender            14825 non-null  object \n",
      " 1   age               17000 non-null  int64  \n",
      " 2   id                17000 non-null  object \n",
      " 3   became_member_on  17000 non-null  int64  \n",
      " 4   income            14825 non-null  float64\n",
      "dtypes: float64(1), int64(2), object(2)\n",
      "memory usage: 664.2+ KB\n",
      "None\n",
      "<class 'pandas.core.frame.DataFrame'>\n",
      "RangeIndex: 306534 entries, 0 to 306533\n",
      "Data columns (total 4 columns):\n",
      " #   Column  Non-Null Count   Dtype \n",
      "---  ------  --------------   ----- \n",
      " 0   person  306534 non-null  object\n",
      " 1   event   306534 non-null  object\n",
      " 2   value   306534 non-null  object\n",
      " 3   time    306534 non-null  int64 \n",
      "dtypes: int64(1), object(3)\n",
      "memory usage: 9.4+ MB\n",
      "None\n"
     ]
    }
   ],
   "source": [
    "print(portfolio.info())\n",
    "print(profile.info())\n",
    "print(transcript.info())"
   ]
  },
  {
   "cell_type": "code",
   "execution_count": 759,
   "metadata": {},
   "outputs": [
    {
     "data": {
      "text/html": [
       "<div>\n",
       "<style scoped>\n",
       "    .dataframe tbody tr th:only-of-type {\n",
       "        vertical-align: middle;\n",
       "    }\n",
       "\n",
       "    .dataframe tbody tr th {\n",
       "        vertical-align: top;\n",
       "    }\n",
       "\n",
       "    .dataframe thead th {\n",
       "        text-align: right;\n",
       "    }\n",
       "</style>\n",
       "<table border=\"1\" class=\"dataframe\">\n",
       "  <thead>\n",
       "    <tr style=\"text-align: right;\">\n",
       "      <th></th>\n",
       "      <th>reward</th>\n",
       "      <th>channels</th>\n",
       "      <th>difficulty</th>\n",
       "      <th>duration</th>\n",
       "      <th>offer_type</th>\n",
       "      <th>id</th>\n",
       "    </tr>\n",
       "  </thead>\n",
       "  <tbody>\n",
       "    <tr>\n",
       "      <th>0</th>\n",
       "      <td>10</td>\n",
       "      <td>[email, mobile, social]</td>\n",
       "      <td>10</td>\n",
       "      <td>7</td>\n",
       "      <td>bogo</td>\n",
       "      <td>ae264e3637204a6fb9bb56bc8210ddfd</td>\n",
       "    </tr>\n",
       "    <tr>\n",
       "      <th>1</th>\n",
       "      <td>10</td>\n",
       "      <td>[web, email, mobile, social]</td>\n",
       "      <td>10</td>\n",
       "      <td>5</td>\n",
       "      <td>bogo</td>\n",
       "      <td>4d5c57ea9a6940dd891ad53e9dbe8da0</td>\n",
       "    </tr>\n",
       "    <tr>\n",
       "      <th>2</th>\n",
       "      <td>0</td>\n",
       "      <td>[web, email, mobile]</td>\n",
       "      <td>0</td>\n",
       "      <td>4</td>\n",
       "      <td>informational</td>\n",
       "      <td>3f207df678b143eea3cee63160fa8bed</td>\n",
       "    </tr>\n",
       "    <tr>\n",
       "      <th>3</th>\n",
       "      <td>5</td>\n",
       "      <td>[web, email, mobile]</td>\n",
       "      <td>5</td>\n",
       "      <td>7</td>\n",
       "      <td>bogo</td>\n",
       "      <td>9b98b8c7a33c4b65b9aebfe6a799e6d9</td>\n",
       "    </tr>\n",
       "    <tr>\n",
       "      <th>4</th>\n",
       "      <td>5</td>\n",
       "      <td>[web, email]</td>\n",
       "      <td>20</td>\n",
       "      <td>10</td>\n",
       "      <td>discount</td>\n",
       "      <td>0b1e1539f2cc45b7b9fa7c272da2e1d7</td>\n",
       "    </tr>\n",
       "  </tbody>\n",
       "</table>\n",
       "</div>"
      ],
      "text/plain": [
       "   reward                      channels  difficulty  duration     offer_type  \\\n",
       "0      10       [email, mobile, social]          10         7           bogo   \n",
       "1      10  [web, email, mobile, social]          10         5           bogo   \n",
       "2       0          [web, email, mobile]           0         4  informational   \n",
       "3       5          [web, email, mobile]           5         7           bogo   \n",
       "4       5                  [web, email]          20        10       discount   \n",
       "\n",
       "                                 id  \n",
       "0  ae264e3637204a6fb9bb56bc8210ddfd  \n",
       "1  4d5c57ea9a6940dd891ad53e9dbe8da0  \n",
       "2  3f207df678b143eea3cee63160fa8bed  \n",
       "3  9b98b8c7a33c4b65b9aebfe6a799e6d9  \n",
       "4  0b1e1539f2cc45b7b9fa7c272da2e1d7  "
      ]
     },
     "execution_count": 759,
     "metadata": {},
     "output_type": "execute_result"
    }
   ],
   "source": [
    "portfolio.head()"
   ]
  },
  {
   "cell_type": "code",
   "execution_count": 760,
   "metadata": {},
   "outputs": [
    {
     "data": {
      "text/html": [
       "<div>\n",
       "<style scoped>\n",
       "    .dataframe tbody tr th:only-of-type {\n",
       "        vertical-align: middle;\n",
       "    }\n",
       "\n",
       "    .dataframe tbody tr th {\n",
       "        vertical-align: top;\n",
       "    }\n",
       "\n",
       "    .dataframe thead th {\n",
       "        text-align: right;\n",
       "    }\n",
       "</style>\n",
       "<table border=\"1\" class=\"dataframe\">\n",
       "  <thead>\n",
       "    <tr style=\"text-align: right;\">\n",
       "      <th></th>\n",
       "      <th>gender</th>\n",
       "      <th>age</th>\n",
       "      <th>id</th>\n",
       "      <th>became_member_on</th>\n",
       "      <th>income</th>\n",
       "    </tr>\n",
       "  </thead>\n",
       "  <tbody>\n",
       "    <tr>\n",
       "      <th>0</th>\n",
       "      <td>None</td>\n",
       "      <td>118</td>\n",
       "      <td>68be06ca386d4c31939f3a4f0e3dd783</td>\n",
       "      <td>20170212</td>\n",
       "      <td>NaN</td>\n",
       "    </tr>\n",
       "    <tr>\n",
       "      <th>1</th>\n",
       "      <td>F</td>\n",
       "      <td>55</td>\n",
       "      <td>0610b486422d4921ae7d2bf64640c50b</td>\n",
       "      <td>20170715</td>\n",
       "      <td>112000.0</td>\n",
       "    </tr>\n",
       "    <tr>\n",
       "      <th>2</th>\n",
       "      <td>None</td>\n",
       "      <td>118</td>\n",
       "      <td>38fe809add3b4fcf9315a9694bb96ff5</td>\n",
       "      <td>20180712</td>\n",
       "      <td>NaN</td>\n",
       "    </tr>\n",
       "    <tr>\n",
       "      <th>3</th>\n",
       "      <td>F</td>\n",
       "      <td>75</td>\n",
       "      <td>78afa995795e4d85b5d9ceeca43f5fef</td>\n",
       "      <td>20170509</td>\n",
       "      <td>100000.0</td>\n",
       "    </tr>\n",
       "    <tr>\n",
       "      <th>4</th>\n",
       "      <td>None</td>\n",
       "      <td>118</td>\n",
       "      <td>a03223e636434f42ac4c3df47e8bac43</td>\n",
       "      <td>20170804</td>\n",
       "      <td>NaN</td>\n",
       "    </tr>\n",
       "  </tbody>\n",
       "</table>\n",
       "</div>"
      ],
      "text/plain": [
       "  gender  age                                id  became_member_on    income\n",
       "0   None  118  68be06ca386d4c31939f3a4f0e3dd783          20170212       NaN\n",
       "1      F   55  0610b486422d4921ae7d2bf64640c50b          20170715  112000.0\n",
       "2   None  118  38fe809add3b4fcf9315a9694bb96ff5          20180712       NaN\n",
       "3      F   75  78afa995795e4d85b5d9ceeca43f5fef          20170509  100000.0\n",
       "4   None  118  a03223e636434f42ac4c3df47e8bac43          20170804       NaN"
      ]
     },
     "execution_count": 760,
     "metadata": {},
     "output_type": "execute_result"
    }
   ],
   "source": [
    "profile.head()"
   ]
  },
  {
   "cell_type": "code",
   "execution_count": 761,
   "metadata": {},
   "outputs": [
    {
     "data": {
      "text/html": [
       "<div>\n",
       "<style scoped>\n",
       "    .dataframe tbody tr th:only-of-type {\n",
       "        vertical-align: middle;\n",
       "    }\n",
       "\n",
       "    .dataframe tbody tr th {\n",
       "        vertical-align: top;\n",
       "    }\n",
       "\n",
       "    .dataframe thead th {\n",
       "        text-align: right;\n",
       "    }\n",
       "</style>\n",
       "<table border=\"1\" class=\"dataframe\">\n",
       "  <thead>\n",
       "    <tr style=\"text-align: right;\">\n",
       "      <th></th>\n",
       "      <th>person</th>\n",
       "      <th>event</th>\n",
       "      <th>value</th>\n",
       "      <th>time</th>\n",
       "    </tr>\n",
       "  </thead>\n",
       "  <tbody>\n",
       "    <tr>\n",
       "      <th>0</th>\n",
       "      <td>78afa995795e4d85b5d9ceeca43f5fef</td>\n",
       "      <td>offer received</td>\n",
       "      <td>{'offer id': '9b98b8c7a33c4b65b9aebfe6a799e6d9'}</td>\n",
       "      <td>0</td>\n",
       "    </tr>\n",
       "    <tr>\n",
       "      <th>1</th>\n",
       "      <td>a03223e636434f42ac4c3df47e8bac43</td>\n",
       "      <td>offer received</td>\n",
       "      <td>{'offer id': '0b1e1539f2cc45b7b9fa7c272da2e1d7'}</td>\n",
       "      <td>0</td>\n",
       "    </tr>\n",
       "    <tr>\n",
       "      <th>2</th>\n",
       "      <td>e2127556f4f64592b11af22de27a7932</td>\n",
       "      <td>offer received</td>\n",
       "      <td>{'offer id': '2906b810c7d4411798c6938adc9daaa5'}</td>\n",
       "      <td>0</td>\n",
       "    </tr>\n",
       "    <tr>\n",
       "      <th>3</th>\n",
       "      <td>8ec6ce2a7e7949b1bf142def7d0e0586</td>\n",
       "      <td>offer received</td>\n",
       "      <td>{'offer id': 'fafdcd668e3743c1bb461111dcafc2a4'}</td>\n",
       "      <td>0</td>\n",
       "    </tr>\n",
       "    <tr>\n",
       "      <th>4</th>\n",
       "      <td>68617ca6246f4fbc85e91a2a49552598</td>\n",
       "      <td>offer received</td>\n",
       "      <td>{'offer id': '4d5c57ea9a6940dd891ad53e9dbe8da0'}</td>\n",
       "      <td>0</td>\n",
       "    </tr>\n",
       "  </tbody>\n",
       "</table>\n",
       "</div>"
      ],
      "text/plain": [
       "                             person           event  \\\n",
       "0  78afa995795e4d85b5d9ceeca43f5fef  offer received   \n",
       "1  a03223e636434f42ac4c3df47e8bac43  offer received   \n",
       "2  e2127556f4f64592b11af22de27a7932  offer received   \n",
       "3  8ec6ce2a7e7949b1bf142def7d0e0586  offer received   \n",
       "4  68617ca6246f4fbc85e91a2a49552598  offer received   \n",
       "\n",
       "                                              value  time  \n",
       "0  {'offer id': '9b98b8c7a33c4b65b9aebfe6a799e6d9'}     0  \n",
       "1  {'offer id': '0b1e1539f2cc45b7b9fa7c272da2e1d7'}     0  \n",
       "2  {'offer id': '2906b810c7d4411798c6938adc9daaa5'}     0  \n",
       "3  {'offer id': 'fafdcd668e3743c1bb461111dcafc2a4'}     0  \n",
       "4  {'offer id': '4d5c57ea9a6940dd891ad53e9dbe8da0'}     0  "
      ]
     },
     "execution_count": 761,
     "metadata": {},
     "output_type": "execute_result"
    }
   ],
   "source": [
    "transcript.head()"
   ]
  },
  {
   "cell_type": "code",
   "execution_count": 755,
   "metadata": {},
   "outputs": [
    {
     "name": "stdout",
     "output_type": "stream",
     "text": [
      "Index(['reward', 'channels', 'difficulty', 'duration', 'offer_type', 'id'], dtype='object')\n",
      "Index(['gender', 'age', 'id', 'became_member_on', 'income'], dtype='object')\n",
      "Index(['person', 'event', 'value', 'time'], dtype='object')\n"
     ]
    }
   ],
   "source": [
    "# Understand Columns of the different dataframes\n",
    "print(portfolio.columns)\n",
    "print(profile.columns)\n",
    "print(transcript.columns)"
   ]
  },
  {
   "cell_type": "code",
   "execution_count": 756,
   "metadata": {},
   "outputs": [
    {
     "data": {
      "text/html": [
       "<div>\n",
       "<style scoped>\n",
       "    .dataframe tbody tr th:only-of-type {\n",
       "        vertical-align: middle;\n",
       "    }\n",
       "\n",
       "    .dataframe tbody tr th {\n",
       "        vertical-align: top;\n",
       "    }\n",
       "\n",
       "    .dataframe thead th {\n",
       "        text-align: right;\n",
       "    }\n",
       "</style>\n",
       "<table border=\"1\" class=\"dataframe\">\n",
       "  <thead>\n",
       "    <tr style=\"text-align: right;\">\n",
       "      <th></th>\n",
       "      <th>reward</th>\n",
       "      <th>difficulty</th>\n",
       "      <th>duration</th>\n",
       "    </tr>\n",
       "  </thead>\n",
       "  <tbody>\n",
       "    <tr>\n",
       "      <th>count</th>\n",
       "      <td>10.000000</td>\n",
       "      <td>10.000000</td>\n",
       "      <td>10.000000</td>\n",
       "    </tr>\n",
       "    <tr>\n",
       "      <th>mean</th>\n",
       "      <td>4.200000</td>\n",
       "      <td>7.700000</td>\n",
       "      <td>6.500000</td>\n",
       "    </tr>\n",
       "    <tr>\n",
       "      <th>std</th>\n",
       "      <td>3.583915</td>\n",
       "      <td>5.831905</td>\n",
       "      <td>2.321398</td>\n",
       "    </tr>\n",
       "    <tr>\n",
       "      <th>min</th>\n",
       "      <td>0.000000</td>\n",
       "      <td>0.000000</td>\n",
       "      <td>3.000000</td>\n",
       "    </tr>\n",
       "    <tr>\n",
       "      <th>25%</th>\n",
       "      <td>2.000000</td>\n",
       "      <td>5.000000</td>\n",
       "      <td>5.000000</td>\n",
       "    </tr>\n",
       "    <tr>\n",
       "      <th>50%</th>\n",
       "      <td>4.000000</td>\n",
       "      <td>8.500000</td>\n",
       "      <td>7.000000</td>\n",
       "    </tr>\n",
       "    <tr>\n",
       "      <th>75%</th>\n",
       "      <td>5.000000</td>\n",
       "      <td>10.000000</td>\n",
       "      <td>7.000000</td>\n",
       "    </tr>\n",
       "    <tr>\n",
       "      <th>max</th>\n",
       "      <td>10.000000</td>\n",
       "      <td>20.000000</td>\n",
       "      <td>10.000000</td>\n",
       "    </tr>\n",
       "  </tbody>\n",
       "</table>\n",
       "</div>"
      ],
      "text/plain": [
       "          reward  difficulty   duration\n",
       "count  10.000000   10.000000  10.000000\n",
       "mean    4.200000    7.700000   6.500000\n",
       "std     3.583915    5.831905   2.321398\n",
       "min     0.000000    0.000000   3.000000\n",
       "25%     2.000000    5.000000   5.000000\n",
       "50%     4.000000    8.500000   7.000000\n",
       "75%     5.000000   10.000000   7.000000\n",
       "max    10.000000   20.000000  10.000000"
      ]
     },
     "execution_count": 756,
     "metadata": {},
     "output_type": "execute_result"
    }
   ],
   "source": [
    "portfolio.describe()"
   ]
  },
  {
   "cell_type": "code",
   "execution_count": 757,
   "metadata": {},
   "outputs": [
    {
     "data": {
      "text/html": [
       "<div>\n",
       "<style scoped>\n",
       "    .dataframe tbody tr th:only-of-type {\n",
       "        vertical-align: middle;\n",
       "    }\n",
       "\n",
       "    .dataframe tbody tr th {\n",
       "        vertical-align: top;\n",
       "    }\n",
       "\n",
       "    .dataframe thead th {\n",
       "        text-align: right;\n",
       "    }\n",
       "</style>\n",
       "<table border=\"1\" class=\"dataframe\">\n",
       "  <thead>\n",
       "    <tr style=\"text-align: right;\">\n",
       "      <th></th>\n",
       "      <th>age</th>\n",
       "      <th>became_member_on</th>\n",
       "      <th>income</th>\n",
       "    </tr>\n",
       "  </thead>\n",
       "  <tbody>\n",
       "    <tr>\n",
       "      <th>count</th>\n",
       "      <td>17000.000000</td>\n",
       "      <td>1.700000e+04</td>\n",
       "      <td>14825.000000</td>\n",
       "    </tr>\n",
       "    <tr>\n",
       "      <th>mean</th>\n",
       "      <td>62.531412</td>\n",
       "      <td>2.016703e+07</td>\n",
       "      <td>65404.991568</td>\n",
       "    </tr>\n",
       "    <tr>\n",
       "      <th>std</th>\n",
       "      <td>26.738580</td>\n",
       "      <td>1.167750e+04</td>\n",
       "      <td>21598.299410</td>\n",
       "    </tr>\n",
       "    <tr>\n",
       "      <th>min</th>\n",
       "      <td>18.000000</td>\n",
       "      <td>2.013073e+07</td>\n",
       "      <td>30000.000000</td>\n",
       "    </tr>\n",
       "    <tr>\n",
       "      <th>25%</th>\n",
       "      <td>45.000000</td>\n",
       "      <td>2.016053e+07</td>\n",
       "      <td>49000.000000</td>\n",
       "    </tr>\n",
       "    <tr>\n",
       "      <th>50%</th>\n",
       "      <td>58.000000</td>\n",
       "      <td>2.017080e+07</td>\n",
       "      <td>64000.000000</td>\n",
       "    </tr>\n",
       "    <tr>\n",
       "      <th>75%</th>\n",
       "      <td>73.000000</td>\n",
       "      <td>2.017123e+07</td>\n",
       "      <td>80000.000000</td>\n",
       "    </tr>\n",
       "    <tr>\n",
       "      <th>max</th>\n",
       "      <td>118.000000</td>\n",
       "      <td>2.018073e+07</td>\n",
       "      <td>120000.000000</td>\n",
       "    </tr>\n",
       "  </tbody>\n",
       "</table>\n",
       "</div>"
      ],
      "text/plain": [
       "                age  became_member_on         income\n",
       "count  17000.000000      1.700000e+04   14825.000000\n",
       "mean      62.531412      2.016703e+07   65404.991568\n",
       "std       26.738580      1.167750e+04   21598.299410\n",
       "min       18.000000      2.013073e+07   30000.000000\n",
       "25%       45.000000      2.016053e+07   49000.000000\n",
       "50%       58.000000      2.017080e+07   64000.000000\n",
       "75%       73.000000      2.017123e+07   80000.000000\n",
       "max      118.000000      2.018073e+07  120000.000000"
      ]
     },
     "execution_count": 757,
     "metadata": {},
     "output_type": "execute_result"
    }
   ],
   "source": [
    "profile.describe()"
   ]
  },
  {
   "cell_type": "code",
   "execution_count": 758,
   "metadata": {},
   "outputs": [
    {
     "data": {
      "text/html": [
       "<div>\n",
       "<style scoped>\n",
       "    .dataframe tbody tr th:only-of-type {\n",
       "        vertical-align: middle;\n",
       "    }\n",
       "\n",
       "    .dataframe tbody tr th {\n",
       "        vertical-align: top;\n",
       "    }\n",
       "\n",
       "    .dataframe thead th {\n",
       "        text-align: right;\n",
       "    }\n",
       "</style>\n",
       "<table border=\"1\" class=\"dataframe\">\n",
       "  <thead>\n",
       "    <tr style=\"text-align: right;\">\n",
       "      <th></th>\n",
       "      <th>time</th>\n",
       "    </tr>\n",
       "  </thead>\n",
       "  <tbody>\n",
       "    <tr>\n",
       "      <th>count</th>\n",
       "      <td>306534.000000</td>\n",
       "    </tr>\n",
       "    <tr>\n",
       "      <th>mean</th>\n",
       "      <td>366.382940</td>\n",
       "    </tr>\n",
       "    <tr>\n",
       "      <th>std</th>\n",
       "      <td>200.326314</td>\n",
       "    </tr>\n",
       "    <tr>\n",
       "      <th>min</th>\n",
       "      <td>0.000000</td>\n",
       "    </tr>\n",
       "    <tr>\n",
       "      <th>25%</th>\n",
       "      <td>186.000000</td>\n",
       "    </tr>\n",
       "    <tr>\n",
       "      <th>50%</th>\n",
       "      <td>408.000000</td>\n",
       "    </tr>\n",
       "    <tr>\n",
       "      <th>75%</th>\n",
       "      <td>528.000000</td>\n",
       "    </tr>\n",
       "    <tr>\n",
       "      <th>max</th>\n",
       "      <td>714.000000</td>\n",
       "    </tr>\n",
       "  </tbody>\n",
       "</table>\n",
       "</div>"
      ],
      "text/plain": [
       "                time\n",
       "count  306534.000000\n",
       "mean      366.382940\n",
       "std       200.326314\n",
       "min         0.000000\n",
       "25%       186.000000\n",
       "50%       408.000000\n",
       "75%       528.000000\n",
       "max       714.000000"
      ]
     },
     "execution_count": 758,
     "metadata": {},
     "output_type": "execute_result"
    }
   ],
   "source": [
    "transcript.describe()"
   ]
  },
  {
   "cell_type": "markdown",
   "metadata": {},
   "source": [
    "## Data Preparation"
   ]
  },
  {
   "cell_type": "markdown",
   "metadata": {},
   "source": [
    "### Data Cleaning"
   ]
  },
  {
   "cell_type": "code",
   "execution_count": 762,
   "metadata": {},
   "outputs": [],
   "source": [
    "def clean_transcript(df):\n",
    "    \"\"\"\n",
    "    Cleans the transcript dataframe with the following actions:\n",
    "    1. Renames person column to customer_id\n",
    "    2. Creates dummies for the event column\n",
    "    3. Creates separate columns for offer id and transaction amount\n",
    "    4. Deletes the event and value column\n",
    "    Input:\n",
    "    original unclean df\n",
    "    Output\n",
    "    clean_df\n",
    "    \"\"\"\n",
    "    clean_df = df.copy()\n",
    "    clean_df.event = clean_df.event.str.replace(\" \", \"_\")\n",
    "    clean_df = pd.get_dummies(clean_df, prefix= \"event\", columns=[\"event\"])\n",
    "    clean_df[\"offer_id\"] = [next(iter(i.items()))[1] if (next(iter(i.items()))[0] == \"offer id\") | \n",
    "                            (next(iter(i.items()))[0] == \"offer_id\") else None for i in clean_df.value]\n",
    "    clean_df[\"txn_amount\"] = [next(iter(i.items()))[1] if next(iter(i.items()))[0] == \"amount\" \n",
    "                              else None for i in clean_df.value]\n",
    "    clean_df.drop(columns = \"value\", inplace = True)\n",
    "    clean_df.rename(columns={'person':'customer_id'}, inplace=True)\n",
    "    return clean_df"
   ]
  },
  {
   "cell_type": "code",
   "execution_count": 763,
   "metadata": {},
   "outputs": [],
   "source": [
    "a = clean_transcript(transcript)"
   ]
  },
  {
   "cell_type": "code",
   "execution_count": 764,
   "metadata": {},
   "outputs": [
    {
     "data": {
      "text/html": [
       "<div>\n",
       "<style scoped>\n",
       "    .dataframe tbody tr th:only-of-type {\n",
       "        vertical-align: middle;\n",
       "    }\n",
       "\n",
       "    .dataframe tbody tr th {\n",
       "        vertical-align: top;\n",
       "    }\n",
       "\n",
       "    .dataframe thead th {\n",
       "        text-align: right;\n",
       "    }\n",
       "</style>\n",
       "<table border=\"1\" class=\"dataframe\">\n",
       "  <thead>\n",
       "    <tr style=\"text-align: right;\">\n",
       "      <th></th>\n",
       "      <th>customer_id</th>\n",
       "      <th>time</th>\n",
       "      <th>event_offer_completed</th>\n",
       "      <th>event_offer_received</th>\n",
       "      <th>event_offer_viewed</th>\n",
       "      <th>event_transaction</th>\n",
       "      <th>offer_id</th>\n",
       "      <th>txn_amount</th>\n",
       "    </tr>\n",
       "  </thead>\n",
       "  <tbody>\n",
       "    <tr>\n",
       "      <th>0</th>\n",
       "      <td>78afa995795e4d85b5d9ceeca43f5fef</td>\n",
       "      <td>0</td>\n",
       "      <td>0</td>\n",
       "      <td>1</td>\n",
       "      <td>0</td>\n",
       "      <td>0</td>\n",
       "      <td>9b98b8c7a33c4b65b9aebfe6a799e6d9</td>\n",
       "      <td>NaN</td>\n",
       "    </tr>\n",
       "    <tr>\n",
       "      <th>1</th>\n",
       "      <td>a03223e636434f42ac4c3df47e8bac43</td>\n",
       "      <td>0</td>\n",
       "      <td>0</td>\n",
       "      <td>1</td>\n",
       "      <td>0</td>\n",
       "      <td>0</td>\n",
       "      <td>0b1e1539f2cc45b7b9fa7c272da2e1d7</td>\n",
       "      <td>NaN</td>\n",
       "    </tr>\n",
       "    <tr>\n",
       "      <th>2</th>\n",
       "      <td>e2127556f4f64592b11af22de27a7932</td>\n",
       "      <td>0</td>\n",
       "      <td>0</td>\n",
       "      <td>1</td>\n",
       "      <td>0</td>\n",
       "      <td>0</td>\n",
       "      <td>2906b810c7d4411798c6938adc9daaa5</td>\n",
       "      <td>NaN</td>\n",
       "    </tr>\n",
       "    <tr>\n",
       "      <th>3</th>\n",
       "      <td>8ec6ce2a7e7949b1bf142def7d0e0586</td>\n",
       "      <td>0</td>\n",
       "      <td>0</td>\n",
       "      <td>1</td>\n",
       "      <td>0</td>\n",
       "      <td>0</td>\n",
       "      <td>fafdcd668e3743c1bb461111dcafc2a4</td>\n",
       "      <td>NaN</td>\n",
       "    </tr>\n",
       "    <tr>\n",
       "      <th>4</th>\n",
       "      <td>68617ca6246f4fbc85e91a2a49552598</td>\n",
       "      <td>0</td>\n",
       "      <td>0</td>\n",
       "      <td>1</td>\n",
       "      <td>0</td>\n",
       "      <td>0</td>\n",
       "      <td>4d5c57ea9a6940dd891ad53e9dbe8da0</td>\n",
       "      <td>NaN</td>\n",
       "    </tr>\n",
       "  </tbody>\n",
       "</table>\n",
       "</div>"
      ],
      "text/plain": [
       "                        customer_id  time  event_offer_completed  \\\n",
       "0  78afa995795e4d85b5d9ceeca43f5fef     0                      0   \n",
       "1  a03223e636434f42ac4c3df47e8bac43     0                      0   \n",
       "2  e2127556f4f64592b11af22de27a7932     0                      0   \n",
       "3  8ec6ce2a7e7949b1bf142def7d0e0586     0                      0   \n",
       "4  68617ca6246f4fbc85e91a2a49552598     0                      0   \n",
       "\n",
       "   event_offer_received  event_offer_viewed  event_transaction  \\\n",
       "0                     1                   0                  0   \n",
       "1                     1                   0                  0   \n",
       "2                     1                   0                  0   \n",
       "3                     1                   0                  0   \n",
       "4                     1                   0                  0   \n",
       "\n",
       "                           offer_id  txn_amount  \n",
       "0  9b98b8c7a33c4b65b9aebfe6a799e6d9         NaN  \n",
       "1  0b1e1539f2cc45b7b9fa7c272da2e1d7         NaN  \n",
       "2  2906b810c7d4411798c6938adc9daaa5         NaN  \n",
       "3  fafdcd668e3743c1bb461111dcafc2a4         NaN  \n",
       "4  4d5c57ea9a6940dd891ad53e9dbe8da0         NaN  "
      ]
     },
     "execution_count": 764,
     "metadata": {},
     "output_type": "execute_result"
    }
   ],
   "source": [
    "a.head()"
   ]
  },
  {
   "cell_type": "code",
   "execution_count": 765,
   "metadata": {},
   "outputs": [],
   "source": [
    "def clean_profile(df):\n",
    "    \"\"\"\n",
    "    Cleans the profile dataframe with the following actions:\n",
    "    1. Renames id column to customer_id\n",
    "    2. Removes outliers from the age column\n",
    "    3. Creates dummies for the gender column\n",
    "    4. Formats the time column to convert from string to datetime\n",
    "    Input:\n",
    "    original unclean df\n",
    "    Output\n",
    "    clean_df\n",
    "    \"\"\"\n",
    "    clean_df = df.copy()\n",
    "    clean_df.rename(columns = {\"id\": \"customer_id\"}, inplace = True)\n",
    "    q = clean_df[\"age\"].quantile(0.95)\n",
    "    clean_df = clean_df.loc[clean_df[\"age\"] < q]\n",
    "    #clean_df = pd.get_dummies(clean_df, prefix= \"gender\", columns=[\"gender\"])\n",
    "    date = lambda x: pd.to_datetime(str(x), format='%Y%m%d')\n",
    "    clean_df.became_member_on = clean_df.became_member_on.apply(date)\n",
    "    return clean_df"
   ]
  },
  {
   "cell_type": "code",
   "execution_count": 766,
   "metadata": {},
   "outputs": [],
   "source": [
    "b = clean_profile(profile)"
   ]
  },
  {
   "cell_type": "code",
   "execution_count": 767,
   "metadata": {},
   "outputs": [
    {
     "data": {
      "text/html": [
       "<div>\n",
       "<style scoped>\n",
       "    .dataframe tbody tr th:only-of-type {\n",
       "        vertical-align: middle;\n",
       "    }\n",
       "\n",
       "    .dataframe tbody tr th {\n",
       "        vertical-align: top;\n",
       "    }\n",
       "\n",
       "    .dataframe thead th {\n",
       "        text-align: right;\n",
       "    }\n",
       "</style>\n",
       "<table border=\"1\" class=\"dataframe\">\n",
       "  <thead>\n",
       "    <tr style=\"text-align: right;\">\n",
       "      <th></th>\n",
       "      <th>gender</th>\n",
       "      <th>age</th>\n",
       "      <th>customer_id</th>\n",
       "      <th>became_member_on</th>\n",
       "      <th>income</th>\n",
       "    </tr>\n",
       "  </thead>\n",
       "  <tbody>\n",
       "    <tr>\n",
       "      <th>1</th>\n",
       "      <td>F</td>\n",
       "      <td>55</td>\n",
       "      <td>0610b486422d4921ae7d2bf64640c50b</td>\n",
       "      <td>2017-07-15</td>\n",
       "      <td>112000.0</td>\n",
       "    </tr>\n",
       "    <tr>\n",
       "      <th>3</th>\n",
       "      <td>F</td>\n",
       "      <td>75</td>\n",
       "      <td>78afa995795e4d85b5d9ceeca43f5fef</td>\n",
       "      <td>2017-05-09</td>\n",
       "      <td>100000.0</td>\n",
       "    </tr>\n",
       "    <tr>\n",
       "      <th>5</th>\n",
       "      <td>M</td>\n",
       "      <td>68</td>\n",
       "      <td>e2127556f4f64592b11af22de27a7932</td>\n",
       "      <td>2018-04-26</td>\n",
       "      <td>70000.0</td>\n",
       "    </tr>\n",
       "    <tr>\n",
       "      <th>8</th>\n",
       "      <td>M</td>\n",
       "      <td>65</td>\n",
       "      <td>389bc3fa690240e798340f5a15918d5c</td>\n",
       "      <td>2018-02-09</td>\n",
       "      <td>53000.0</td>\n",
       "    </tr>\n",
       "    <tr>\n",
       "      <th>12</th>\n",
       "      <td>M</td>\n",
       "      <td>58</td>\n",
       "      <td>2eeac8d8feae4a8cad5a6af0499a211d</td>\n",
       "      <td>2017-11-11</td>\n",
       "      <td>51000.0</td>\n",
       "    </tr>\n",
       "  </tbody>\n",
       "</table>\n",
       "</div>"
      ],
      "text/plain": [
       "   gender  age                       customer_id became_member_on    income\n",
       "1       F   55  0610b486422d4921ae7d2bf64640c50b       2017-07-15  112000.0\n",
       "3       F   75  78afa995795e4d85b5d9ceeca43f5fef       2017-05-09  100000.0\n",
       "5       M   68  e2127556f4f64592b11af22de27a7932       2018-04-26   70000.0\n",
       "8       M   65  389bc3fa690240e798340f5a15918d5c       2018-02-09   53000.0\n",
       "12      M   58  2eeac8d8feae4a8cad5a6af0499a211d       2017-11-11   51000.0"
      ]
     },
     "execution_count": 767,
     "metadata": {},
     "output_type": "execute_result"
    }
   ],
   "source": [
    "b.head()"
   ]
  },
  {
   "cell_type": "code",
   "execution_count": 768,
   "metadata": {},
   "outputs": [],
   "source": [
    "def clean_portfolio(df):\n",
    "    \"\"\"\n",
    "    Cleans the profile dataframe with the following actions:\n",
    "    1. Renames id column to offer_id\n",
    "    2. Creates dummy columns for channels column\n",
    "    3. Removes the channels column\n",
    "    Input:\n",
    "    original unclean df\n",
    "    Output\n",
    "    clean_df\n",
    "    \"\"\"\n",
    "    clean_df = df.copy()\n",
    "    clean_df.rename(columns = {\"id\": \"offer_id\"}, inplace = True)\n",
    "    x = pd.get_dummies(clean_df['channels'].explode()).sum(level=0)\n",
    "    clean_df = pd.concat([clean_df, x], axis=1, sort=False)\n",
    "    clean_df.drop(columns = [\"channels\"], inplace = True)\n",
    "    return clean_df"
   ]
  },
  {
   "cell_type": "code",
   "execution_count": 769,
   "metadata": {},
   "outputs": [],
   "source": [
    "c = clean_portfolio(portfolio)"
   ]
  },
  {
   "cell_type": "code",
   "execution_count": 916,
   "metadata": {},
   "outputs": [
    {
     "data": {
      "text/html": [
       "<div>\n",
       "<style scoped>\n",
       "    .dataframe tbody tr th:only-of-type {\n",
       "        vertical-align: middle;\n",
       "    }\n",
       "\n",
       "    .dataframe tbody tr th {\n",
       "        vertical-align: top;\n",
       "    }\n",
       "\n",
       "    .dataframe thead th {\n",
       "        text-align: right;\n",
       "    }\n",
       "</style>\n",
       "<table border=\"1\" class=\"dataframe\">\n",
       "  <thead>\n",
       "    <tr style=\"text-align: right;\">\n",
       "      <th></th>\n",
       "      <th>reward</th>\n",
       "      <th>difficulty</th>\n",
       "      <th>duration</th>\n",
       "      <th>offer_type</th>\n",
       "      <th>offer_id</th>\n",
       "      <th>email</th>\n",
       "      <th>mobile</th>\n",
       "      <th>social</th>\n",
       "      <th>web</th>\n",
       "    </tr>\n",
       "  </thead>\n",
       "  <tbody>\n",
       "    <tr>\n",
       "      <th>0</th>\n",
       "      <td>10</td>\n",
       "      <td>10</td>\n",
       "      <td>7</td>\n",
       "      <td>bogo</td>\n",
       "      <td>ae264e3637204a6fb9bb56bc8210ddfd</td>\n",
       "      <td>1</td>\n",
       "      <td>1</td>\n",
       "      <td>1</td>\n",
       "      <td>0</td>\n",
       "    </tr>\n",
       "    <tr>\n",
       "      <th>1</th>\n",
       "      <td>10</td>\n",
       "      <td>10</td>\n",
       "      <td>5</td>\n",
       "      <td>bogo</td>\n",
       "      <td>4d5c57ea9a6940dd891ad53e9dbe8da0</td>\n",
       "      <td>1</td>\n",
       "      <td>1</td>\n",
       "      <td>1</td>\n",
       "      <td>1</td>\n",
       "    </tr>\n",
       "    <tr>\n",
       "      <th>2</th>\n",
       "      <td>0</td>\n",
       "      <td>0</td>\n",
       "      <td>4</td>\n",
       "      <td>informational</td>\n",
       "      <td>3f207df678b143eea3cee63160fa8bed</td>\n",
       "      <td>1</td>\n",
       "      <td>1</td>\n",
       "      <td>0</td>\n",
       "      <td>1</td>\n",
       "    </tr>\n",
       "    <tr>\n",
       "      <th>3</th>\n",
       "      <td>5</td>\n",
       "      <td>5</td>\n",
       "      <td>7</td>\n",
       "      <td>bogo</td>\n",
       "      <td>9b98b8c7a33c4b65b9aebfe6a799e6d9</td>\n",
       "      <td>1</td>\n",
       "      <td>1</td>\n",
       "      <td>0</td>\n",
       "      <td>1</td>\n",
       "    </tr>\n",
       "    <tr>\n",
       "      <th>4</th>\n",
       "      <td>5</td>\n",
       "      <td>20</td>\n",
       "      <td>10</td>\n",
       "      <td>discount</td>\n",
       "      <td>0b1e1539f2cc45b7b9fa7c272da2e1d7</td>\n",
       "      <td>1</td>\n",
       "      <td>0</td>\n",
       "      <td>0</td>\n",
       "      <td>1</td>\n",
       "    </tr>\n",
       "    <tr>\n",
       "      <th>5</th>\n",
       "      <td>3</td>\n",
       "      <td>7</td>\n",
       "      <td>7</td>\n",
       "      <td>discount</td>\n",
       "      <td>2298d6c36e964ae4a3e7e9706d1fb8c2</td>\n",
       "      <td>1</td>\n",
       "      <td>1</td>\n",
       "      <td>1</td>\n",
       "      <td>1</td>\n",
       "    </tr>\n",
       "    <tr>\n",
       "      <th>6</th>\n",
       "      <td>2</td>\n",
       "      <td>10</td>\n",
       "      <td>10</td>\n",
       "      <td>discount</td>\n",
       "      <td>fafdcd668e3743c1bb461111dcafc2a4</td>\n",
       "      <td>1</td>\n",
       "      <td>1</td>\n",
       "      <td>1</td>\n",
       "      <td>1</td>\n",
       "    </tr>\n",
       "    <tr>\n",
       "      <th>7</th>\n",
       "      <td>0</td>\n",
       "      <td>0</td>\n",
       "      <td>3</td>\n",
       "      <td>informational</td>\n",
       "      <td>5a8bc65990b245e5a138643cd4eb9837</td>\n",
       "      <td>1</td>\n",
       "      <td>1</td>\n",
       "      <td>1</td>\n",
       "      <td>0</td>\n",
       "    </tr>\n",
       "    <tr>\n",
       "      <th>8</th>\n",
       "      <td>5</td>\n",
       "      <td>5</td>\n",
       "      <td>5</td>\n",
       "      <td>bogo</td>\n",
       "      <td>f19421c1d4aa40978ebb69ca19b0e20d</td>\n",
       "      <td>1</td>\n",
       "      <td>1</td>\n",
       "      <td>1</td>\n",
       "      <td>1</td>\n",
       "    </tr>\n",
       "    <tr>\n",
       "      <th>9</th>\n",
       "      <td>2</td>\n",
       "      <td>10</td>\n",
       "      <td>7</td>\n",
       "      <td>discount</td>\n",
       "      <td>2906b810c7d4411798c6938adc9daaa5</td>\n",
       "      <td>1</td>\n",
       "      <td>1</td>\n",
       "      <td>0</td>\n",
       "      <td>1</td>\n",
       "    </tr>\n",
       "  </tbody>\n",
       "</table>\n",
       "</div>"
      ],
      "text/plain": [
       "   reward  difficulty  duration     offer_type  \\\n",
       "0      10          10         7           bogo   \n",
       "1      10          10         5           bogo   \n",
       "2       0           0         4  informational   \n",
       "3       5           5         7           bogo   \n",
       "4       5          20        10       discount   \n",
       "5       3           7         7       discount   \n",
       "6       2          10        10       discount   \n",
       "7       0           0         3  informational   \n",
       "8       5           5         5           bogo   \n",
       "9       2          10         7       discount   \n",
       "\n",
       "                           offer_id  email  mobile  social  web  \n",
       "0  ae264e3637204a6fb9bb56bc8210ddfd      1       1       1    0  \n",
       "1  4d5c57ea9a6940dd891ad53e9dbe8da0      1       1       1    1  \n",
       "2  3f207df678b143eea3cee63160fa8bed      1       1       0    1  \n",
       "3  9b98b8c7a33c4b65b9aebfe6a799e6d9      1       1       0    1  \n",
       "4  0b1e1539f2cc45b7b9fa7c272da2e1d7      1       0       0    1  \n",
       "5  2298d6c36e964ae4a3e7e9706d1fb8c2      1       1       1    1  \n",
       "6  fafdcd668e3743c1bb461111dcafc2a4      1       1       1    1  \n",
       "7  5a8bc65990b245e5a138643cd4eb9837      1       1       1    0  \n",
       "8  f19421c1d4aa40978ebb69ca19b0e20d      1       1       1    1  \n",
       "9  2906b810c7d4411798c6938adc9daaa5      1       1       0    1  "
      ]
     },
     "execution_count": 916,
     "metadata": {},
     "output_type": "execute_result"
    }
   ],
   "source": [
    "c"
   ]
  },
  {
   "cell_type": "markdown",
   "metadata": {},
   "source": [
    "### Data Merging"
   ]
  },
  {
   "cell_type": "code",
   "execution_count": 771,
   "metadata": {},
   "outputs": [],
   "source": [
    "def merge_dataframes(a,b,c):\n",
    "    merge_1 = pd.merge(a, b, on='customer_id', how=\"left\")\n",
    "    merge_2 = pd.merge(merge_1, c, on='offer_id', how='left')\n",
    "    offer_id = {'ae264e3637204a6fb9bb56bc8210ddfd': 'B1',\n",
    "                '4d5c57ea9a6940dd891ad53e9dbe8da0': 'B2',\n",
    "                '9b98b8c7a33c4b65b9aebfe6a799e6d9': 'B3',\n",
    "                'f19421c1d4aa40978ebb69ca19b0e20d': 'B4',\n",
    "                '0b1e1539f2cc45b7b9fa7c272da2e1d7': 'D1',\n",
    "                '2298d6c36e964ae4a3e7e9706d1fb8c2': 'D2',\n",
    "                'fafdcd668e3743c1bb461111dcafc2a4': 'D3',\n",
    "                '2906b810c7d4411798c6938adc9daaa5': 'D4',\n",
    "                '3f207df678b143eea3cee63160fa8bed': 'I1',\n",
    "                '5a8bc65990b245e5a138643cd4eb9837': 'I2'}\n",
    "    merge_2.offer_id = merge_2.offer_id.apply(lambda x: offer_id[x] if x else None)\n",
    "    return merge_2"
   ]
  },
  {
   "cell_type": "code",
   "execution_count": 772,
   "metadata": {},
   "outputs": [],
   "source": [
    "d = merge_dataframes(a,b,c)"
   ]
  },
  {
   "cell_type": "code",
   "execution_count": 773,
   "metadata": {},
   "outputs": [],
   "source": [
    "#profile dataframe has fewer customer ids than transcript df so dropping nan values from the merged dataframe\n",
    "d.dropna(subset = [\"age\"], inplace = True)"
   ]
  },
  {
   "cell_type": "markdown",
   "metadata": {},
   "source": [
    "## Data Analysis"
   ]
  },
  {
   "cell_type": "markdown",
   "metadata": {},
   "source": [
    "In this project, I'm not going to do any modelling - I simply want to analyze the dataset and make a set of recommendations"
   ]
  },
  {
   "cell_type": "markdown",
   "metadata": {},
   "source": [
    "### Overall Experiment Information"
   ]
  },
  {
   "cell_type": "code",
   "execution_count": 774,
   "metadata": {},
   "outputs": [
    {
     "name": "stdout",
     "output_type": "stream",
     "text": [
      "The offer data is over a period of 29.75 days\n"
     ]
    }
   ],
   "source": [
    "#How long was the experiment run with offers?\n",
    "clean_df = d.copy()\n",
    "print(\"The offer data is over a period of {} days\".format(clean_df.time.max()/24))"
   ]
  },
  {
   "cell_type": "code",
   "execution_count": 775,
   "metadata": {},
   "outputs": [
    {
     "data": {
      "text/plain": [
       "14825"
      ]
     },
     "execution_count": 775,
     "metadata": {},
     "output_type": "execute_result"
    }
   ],
   "source": [
    "clean_df.customer_id.nunique()"
   ]
  },
  {
   "cell_type": "code",
   "execution_count": 777,
   "metadata": {},
   "outputs": [
    {
     "name": "stdout",
     "output_type": "stream",
     "text": [
      "Total number of offers were 10\n"
     ]
    }
   ],
   "source": [
    "#How many offers were sent to the customer?\n",
    "print(\"Total number of offers were {}\".format(clean_df.offer_id.nunique()))"
   ]
  },
  {
   "cell_type": "code",
   "execution_count": 778,
   "metadata": {},
   "outputs": [
    {
     "name": "stdout",
     "output_type": "stream",
     "text": [
      "Overall offer success rate was 48.8%\n"
     ]
    }
   ],
   "source": [
    "#Offer Success Rate\n",
    "offer_r = len(clean_df.loc[clean_df.event_offer_received == 1])\n",
    "offer_c = len(clean_df.loc[clean_df.event_offer_completed == 1])\n",
    "print(\"Overall offer success rate was {:.1f}%\".format(offer_c/offer_r*100))"
   ]
  },
  {
   "cell_type": "code",
   "execution_count": 779,
   "metadata": {},
   "outputs": [
    {
     "name": "stdout",
     "output_type": "stream",
     "text": [
      "Overall offer success rate was 61.0%\n"
     ]
    }
   ],
   "source": [
    "#Please refer to analysis below. Excluding I1 and I2 from the analysis because those offers are only informational\n",
    "condition1 = clean_df.offer_id != \"I1\"\n",
    "condition2 = clean_df.offer_id != \"I2\"\n",
    "condition3 = clean_df.event_offer_received == 1\n",
    "offer_r1 = len(clean_df.loc[condition1 & condition2 & condition3])\n",
    "print(\"Overall offer success rate was {:.1f}%\".format(offer_c/offer_r1*100))"
   ]
  },
  {
   "cell_type": "markdown",
   "metadata": {},
   "source": [
    "We need to calculate the offer success rate by excluding the I1 and I2 offers because they are informational and can't be completed\n",
    "by the customer. Hence, including them will underreport the success rate as you can see from the cells above"
   ]
  },
  {
   "cell_type": "code",
   "execution_count": 780,
   "metadata": {},
   "outputs": [
    {
     "name": "stdout",
     "output_type": "stream",
     "text": [
      "The merged dataset has a sample of 14825 customers\n"
     ]
    }
   ],
   "source": [
    "#What is the sample size of the data?\n",
    "print(\"The merged dataset has a sample of {} customers\".format(clean_df.customer_id.nunique()))"
   ]
  },
  {
   "cell_type": "markdown",
   "metadata": {},
   "source": [
    "### Offer Analysis"
   ]
  },
  {
   "cell_type": "code",
   "execution_count": 781,
   "metadata": {},
   "outputs": [],
   "source": [
    "#Grouping the Dataset by order_id to determine offer performance\n",
    "offer = clean_df.groupby([\"offer_id\"]).agg({\"event_offer_received\":\"sum\", \"event_offer_viewed\":\"sum\", \"event_offer_completed\":\"sum\"})\n",
    "offer.loc[:,\"receive_view_ratio\"] = offer.event_offer_viewed/offer.event_offer_received\n",
    "offer.loc[:,\"receive_complete_ratio\"] = offer.event_offer_completed/offer.event_offer_received"
   ]
  },
  {
   "cell_type": "code",
   "execution_count": 782,
   "metadata": {},
   "outputs": [
    {
     "data": {
      "text/html": [
       "<div>\n",
       "<style scoped>\n",
       "    .dataframe tbody tr th:only-of-type {\n",
       "        vertical-align: middle;\n",
       "    }\n",
       "\n",
       "    .dataframe tbody tr th {\n",
       "        vertical-align: top;\n",
       "    }\n",
       "\n",
       "    .dataframe thead th {\n",
       "        text-align: right;\n",
       "    }\n",
       "</style>\n",
       "<table border=\"1\" class=\"dataframe\">\n",
       "  <thead>\n",
       "    <tr style=\"text-align: right;\">\n",
       "      <th></th>\n",
       "      <th>event_offer_received</th>\n",
       "      <th>event_offer_viewed</th>\n",
       "      <th>event_offer_completed</th>\n",
       "      <th>receive_view_ratio</th>\n",
       "      <th>receive_complete_ratio</th>\n",
       "    </tr>\n",
       "    <tr>\n",
       "      <th>offer_id</th>\n",
       "      <th></th>\n",
       "      <th></th>\n",
       "      <th></th>\n",
       "      <th></th>\n",
       "      <th></th>\n",
       "    </tr>\n",
       "  </thead>\n",
       "  <tbody>\n",
       "    <tr>\n",
       "      <th>B1</th>\n",
       "      <td>6683.0</td>\n",
       "      <td>5901.0</td>\n",
       "      <td>3657.0</td>\n",
       "      <td>0.882987</td>\n",
       "      <td>0.547209</td>\n",
       "    </tr>\n",
       "    <tr>\n",
       "      <th>B2</th>\n",
       "      <td>6593.0</td>\n",
       "      <td>6329.0</td>\n",
       "      <td>3310.0</td>\n",
       "      <td>0.959958</td>\n",
       "      <td>0.502048</td>\n",
       "    </tr>\n",
       "    <tr>\n",
       "      <th>B3</th>\n",
       "      <td>6685.0</td>\n",
       "      <td>3499.0</td>\n",
       "      <td>4188.0</td>\n",
       "      <td>0.523411</td>\n",
       "      <td>0.626477</td>\n",
       "    </tr>\n",
       "    <tr>\n",
       "      <th>B4</th>\n",
       "      <td>6576.0</td>\n",
       "      <td>6310.0</td>\n",
       "      <td>4103.0</td>\n",
       "      <td>0.959550</td>\n",
       "      <td>0.623936</td>\n",
       "    </tr>\n",
       "    <tr>\n",
       "      <th>D1</th>\n",
       "      <td>6726.0</td>\n",
       "      <td>2215.0</td>\n",
       "      <td>3386.0</td>\n",
       "      <td>0.329319</td>\n",
       "      <td>0.503420</td>\n",
       "    </tr>\n",
       "  </tbody>\n",
       "</table>\n",
       "</div>"
      ],
      "text/plain": [
       "          event_offer_received  event_offer_viewed  event_offer_completed  \\\n",
       "offer_id                                                                    \n",
       "B1                      6683.0              5901.0                 3657.0   \n",
       "B2                      6593.0              6329.0                 3310.0   \n",
       "B3                      6685.0              3499.0                 4188.0   \n",
       "B4                      6576.0              6310.0                 4103.0   \n",
       "D1                      6726.0              2215.0                 3386.0   \n",
       "\n",
       "          receive_view_ratio  receive_complete_ratio  \n",
       "offer_id                                              \n",
       "B1                  0.882987                0.547209  \n",
       "B2                  0.959958                0.502048  \n",
       "B3                  0.523411                0.626477  \n",
       "B4                  0.959550                0.623936  \n",
       "D1                  0.329319                0.503420  "
      ]
     },
     "execution_count": 782,
     "metadata": {},
     "output_type": "execute_result"
    }
   ],
   "source": [
    "offer.head()"
   ]
  },
  {
   "cell_type": "code",
   "execution_count": 783,
   "metadata": {},
   "outputs": [
    {
     "data": {
      "image/png": "[encoded data removed]",
      "text/plain": [
       "<Figure size 1080x576 with 1 Axes>"
      ]
     },
     "metadata": {
      "needs_background": "light"
     },
     "output_type": "display_data"
    }
   ],
   "source": [
    "plt.figure(figsize = (15,8))\n",
    "plt.bar(offer.index, offer.event_offer_received, width = 0.35)\n",
    "plt.xlabel(\"Type of Offer\")\n",
    "plt.ylabel(\"Frequency of Offer\")\n",
    "plt.title(\"Count of Offers Received by Customers\")\n",
    "plt.show()"
   ]
  },
  {
   "cell_type": "markdown",
   "metadata": {},
   "source": [
    "It seem like offers were generated uniformly and sent to the customers since the frequency is almost the same"
   ]
  },
  {
   "cell_type": "code",
   "execution_count": 784,
   "metadata": {},
   "outputs": [],
   "source": [
    "#Preparing an autolabel function to label the next few graphs\n",
    "def autolabel(rects, ax):\n",
    "    # Get y-axis height to calculate label position from.\n",
    "    (y_bottom, y_top) = ax.get_ylim()\n",
    "    y_height = y_top - y_bottom\n",
    "\n",
    "    for rect in rects:\n",
    "        height = rect.get_height()\n",
    "        #print(height)\n",
    "        label_position = height + (y_height * 0.01)\n",
    "\n",
    "        ax.text(rect.get_x() + rect.get_width()/2, label_position,\n",
    "                '%.2f' % float(height),\n",
    "                ha='center', va='bottom')"
   ]
  },
  {
   "cell_type": "code",
   "execution_count": 785,
   "metadata": {},
   "outputs": [
    {
     "data": {
      "image/png": "[encoded data removed]",
      "text/plain": [
       "<Figure size 1080x720 with 1 Axes>"
      ]
     },
     "metadata": {
      "needs_background": "light"
     },
     "output_type": "display_data"
    }
   ],
   "source": [
    "#Below chart shows the receive to view ratio and the receive to completion ratio\n",
    "labels = offer.index.tolist()\n",
    "bar1 = offer.receive_view_ratio.tolist()\n",
    "bar2 = offer.receive_complete_ratio.tolist()\n",
    "x = np.arange(len(labels))  # the label locations\n",
    "width = 0.35  # the width of the bars\n",
    "\n",
    "fig, ax = plt.subplots(figsize = (15,10))\n",
    "rects1 = ax.bar(x - width/2, bar1, width, label='Receive_View_Ratio')\n",
    "rects2 = ax.bar(x + width/2, bar2, width, label='Receive_Complete_Ratio')\n",
    "\n",
    "# Add some text for labels, title and custom x-axis tick labels, etc.\n",
    "ax.set_ylabel('Ratio')\n",
    "ax.set_title('View and Completion Ratios of Offers')\n",
    "ax.set_xticks(x)\n",
    "ax.set_xticklabels(labels)\n",
    "ax.legend()\n",
    "\n",
    "autolabel(rects1, ax)\n",
    "autolabel(rects2, ax)\n",
    "\n",
    "plt.show()"
   ]
  },
  {
   "cell_type": "markdown",
   "metadata": {},
   "source": [
    "As you can see from the graph, the two most succesful offers were D2 and D3 with a 96% view rate and a ~75% completion rate. On the other hand, as the names suggest, I1 and I2 were just informational offers with no completion. For this analysis, we will ignore I1 and I2."
   ]
  },
  {
   "cell_type": "markdown",
   "metadata": {},
   "source": [
    "### Customer Analysis"
   ]
  },
  {
   "cell_type": "markdown",
   "metadata": {},
   "source": [
    "#### Gender Analysis"
   ]
  },
  {
   "cell_type": "code",
   "execution_count": 82,
   "metadata": {},
   "outputs": [
    {
     "data": {
      "text/html": [
       "<div>\n",
       "<style scoped>\n",
       "    .dataframe tbody tr th:only-of-type {\n",
       "        vertical-align: middle;\n",
       "    }\n",
       "\n",
       "    .dataframe tbody tr th {\n",
       "        vertical-align: top;\n",
       "    }\n",
       "\n",
       "    .dataframe thead th {\n",
       "        text-align: right;\n",
       "    }\n",
       "</style>\n",
       "<table border=\"1\" class=\"dataframe\">\n",
       "  <thead>\n",
       "    <tr style=\"text-align: right;\">\n",
       "      <th></th>\n",
       "      <th>customer_id</th>\n",
       "      <th>%_total</th>\n",
       "    </tr>\n",
       "    <tr>\n",
       "      <th>gender</th>\n",
       "      <th></th>\n",
       "      <th></th>\n",
       "    </tr>\n",
       "  </thead>\n",
       "  <tbody>\n",
       "    <tr>\n",
       "      <th>F</th>\n",
       "      <td>6129</td>\n",
       "      <td>0.413423</td>\n",
       "    </tr>\n",
       "    <tr>\n",
       "      <th>M</th>\n",
       "      <td>8484</td>\n",
       "      <td>0.572277</td>\n",
       "    </tr>\n",
       "    <tr>\n",
       "      <th>O</th>\n",
       "      <td>212</td>\n",
       "      <td>0.014300</td>\n",
       "    </tr>\n",
       "  </tbody>\n",
       "</table>\n",
       "</div>"
      ],
      "text/plain": [
       "        customer_id   %_total\n",
       "gender                       \n",
       "F              6129  0.413423\n",
       "M              8484  0.572277\n",
       "O               212  0.014300"
      ]
     },
     "execution_count": 82,
     "metadata": {},
     "output_type": "execute_result"
    }
   ],
   "source": [
    "gender = clean_df.groupby(\"gender\").agg({\"customer_id\":\"nunique\"})\n",
    "gender.loc[:,\"%_total\"] = gender.customer_id/gender.customer_id.sum()\n",
    "gender"
   ]
  },
  {
   "cell_type": "code",
   "execution_count": 1273,
   "metadata": {},
   "outputs": [
    {
     "data": {
      "image/png": "[encoded data removed]",
      "text/plain": [
       "<Figure size 720x432 with 1 Axes>"
      ]
     },
     "metadata": {
      "needs_background": "light"
     },
     "output_type": "display_data"
    }
   ],
   "source": [
    "gender_labels = gender.index.tolist()\n",
    "gender_len = np.arange(len(gender_labels))\n",
    "gender_bar = gender.customer_id.tolist()\n",
    "fig, ax = plt.subplots(figsize = (10,6))\n",
    "gender_rects = ax.bar(gender_len, gender_bar, width, label = \"Gender\")\n",
    "\n",
    "\n",
    "ax.set_ylabel('Count')\n",
    "ax.set_title('Gender Count')\n",
    "ax.set_xticks(gender_len)\n",
    "ax.set_xticklabels(gender_labels)\n",
    "ax.legend()\n",
    "\n",
    "autolabel(gender_rects, ax)\n",
    "\n",
    "plt.show()"
   ]
  },
  {
   "cell_type": "markdown",
   "metadata": {},
   "source": [
    "From the table, we can see that the dataset has ~57% males, ~41% females and ~1.5% other. For the analysis, we will exclude gender \"O\" from our analysis"
   ]
  },
  {
   "cell_type": "markdown",
   "metadata": {},
   "source": [
    "#### Age Analysis"
   ]
  },
  {
   "cell_type": "code",
   "execution_count": 787,
   "metadata": {},
   "outputs": [
    {
     "data": {
      "text/html": [
       "<div>\n",
       "<style scoped>\n",
       "    .dataframe tbody tr th:only-of-type {\n",
       "        vertical-align: middle;\n",
       "    }\n",
       "\n",
       "    .dataframe tbody tr th {\n",
       "        vertical-align: top;\n",
       "    }\n",
       "\n",
       "    .dataframe thead th {\n",
       "        text-align: right;\n",
       "    }\n",
       "</style>\n",
       "<table border=\"1\" class=\"dataframe\">\n",
       "  <thead>\n",
       "    <tr style=\"text-align: right;\">\n",
       "      <th></th>\n",
       "      <th>customer_id</th>\n",
       "      <th>%_total</th>\n",
       "      <th>%_cum</th>\n",
       "    </tr>\n",
       "    <tr>\n",
       "      <th>age</th>\n",
       "      <th></th>\n",
       "      <th></th>\n",
       "      <th></th>\n",
       "    </tr>\n",
       "  </thead>\n",
       "  <tbody>\n",
       "    <tr>\n",
       "      <th>(17, 27]</th>\n",
       "      <td>1308</td>\n",
       "      <td>0.088229</td>\n",
       "      <td>0.088229</td>\n",
       "    </tr>\n",
       "    <tr>\n",
       "      <th>(27, 37]</th>\n",
       "      <td>1438</td>\n",
       "      <td>0.096998</td>\n",
       "      <td>0.185228</td>\n",
       "    </tr>\n",
       "    <tr>\n",
       "      <th>(37, 47]</th>\n",
       "      <td>2054</td>\n",
       "      <td>0.138550</td>\n",
       "      <td>0.323777</td>\n",
       "    </tr>\n",
       "    <tr>\n",
       "      <th>(47, 57]</th>\n",
       "      <td>3383</td>\n",
       "      <td>0.228196</td>\n",
       "      <td>0.551973</td>\n",
       "    </tr>\n",
       "    <tr>\n",
       "      <th>(57, 67]</th>\n",
       "      <td>3257</td>\n",
       "      <td>0.219696</td>\n",
       "      <td>0.771669</td>\n",
       "    </tr>\n",
       "    <tr>\n",
       "      <th>(67, 77]</th>\n",
       "      <td>2031</td>\n",
       "      <td>0.136998</td>\n",
       "      <td>0.908668</td>\n",
       "    </tr>\n",
       "    <tr>\n",
       "      <th>(77, 87]</th>\n",
       "      <td>966</td>\n",
       "      <td>0.065160</td>\n",
       "      <td>0.973828</td>\n",
       "    </tr>\n",
       "    <tr>\n",
       "      <th>(87, 97]</th>\n",
       "      <td>361</td>\n",
       "      <td>0.024351</td>\n",
       "      <td>0.998179</td>\n",
       "    </tr>\n",
       "    <tr>\n",
       "      <th>(97, 107]</th>\n",
       "      <td>27</td>\n",
       "      <td>0.001821</td>\n",
       "      <td>1.000000</td>\n",
       "    </tr>\n",
       "  </tbody>\n",
       "</table>\n",
       "</div>"
      ],
      "text/plain": [
       "           customer_id   %_total     %_cum\n",
       "age                                       \n",
       "(17, 27]          1308  0.088229  0.088229\n",
       "(27, 37]          1438  0.096998  0.185228\n",
       "(37, 47]          2054  0.138550  0.323777\n",
       "(47, 57]          3383  0.228196  0.551973\n",
       "(57, 67]          3257  0.219696  0.771669\n",
       "(67, 77]          2031  0.136998  0.908668\n",
       "(77, 87]           966  0.065160  0.973828\n",
       "(87, 97]           361  0.024351  0.998179\n",
       "(97, 107]           27  0.001821  1.000000"
      ]
     },
     "execution_count": 787,
     "metadata": {},
     "output_type": "execute_result"
    }
   ],
   "source": [
    "age = clean_df.groupby(pd.cut(clean_df.age, range(int(clean_df.age.min())-1, int(clean_df.age.max()+11), 10))).agg({\"customer_id\":\"nunique\"})\n",
    "age.loc[:,\"%_total\"] = age.customer_id/age.customer_id.sum()\n",
    "age.loc[:,\"%_cum\"] = age[\"%_total\"].cumsum()\n",
    "age"
   ]
  },
  {
   "cell_type": "code",
   "execution_count": 788,
   "metadata": {},
   "outputs": [
    {
     "data": {
      "image/png": "[encoded data removed]",
      "text/plain": [
       "<Figure size 1080x720 with 1 Axes>"
      ]
     },
     "metadata": {
      "needs_background": "light"
     },
     "output_type": "display_data"
    }
   ],
   "source": [
    "age_labels = age.index.tolist()\n",
    "age_len = np.arange(len(age_labels))\n",
    "age_bar = age.customer_id.tolist()\n",
    "fig, ax = plt.subplots(figsize = (15,10))\n",
    "age_rects = ax.bar(age_len, age_bar, width, label = \"age\")\n",
    "\n",
    "\n",
    "ax.set_ylabel('Count')\n",
    "ax.set_title('age Count')\n",
    "ax.set_xticks(age_len)\n",
    "ax.set_xticklabels(age_labels)\n",
    "ax.legend()\n",
    "\n",
    "autolabel(age_rects, ax)\n",
    "\n",
    "plt.show()"
   ]
  },
  {
   "cell_type": "markdown",
   "metadata": {},
   "source": [
    "From the table we can see that ~44% of the customers fall within the age bracket between 47 and 67"
   ]
  },
  {
   "cell_type": "markdown",
   "metadata": {},
   "source": [
    "#### Income Analysis"
   ]
  },
  {
   "cell_type": "code",
   "execution_count": 790,
   "metadata": {},
   "outputs": [
    {
     "data": {
      "text/html": [
       "<div>\n",
       "<style scoped>\n",
       "    .dataframe tbody tr th:only-of-type {\n",
       "        vertical-align: middle;\n",
       "    }\n",
       "\n",
       "    .dataframe tbody tr th {\n",
       "        vertical-align: top;\n",
       "    }\n",
       "\n",
       "    .dataframe thead th {\n",
       "        text-align: right;\n",
       "    }\n",
       "</style>\n",
       "<table border=\"1\" class=\"dataframe\">\n",
       "  <thead>\n",
       "    <tr style=\"text-align: right;\">\n",
       "      <th></th>\n",
       "      <th>customer_id</th>\n",
       "      <th>%_total</th>\n",
       "      <th>%_cum</th>\n",
       "    </tr>\n",
       "    <tr>\n",
       "      <th>income</th>\n",
       "      <th></th>\n",
       "      <th></th>\n",
       "      <th></th>\n",
       "    </tr>\n",
       "  </thead>\n",
       "  <tbody>\n",
       "    <tr>\n",
       "      <th>(20000, 30000]</th>\n",
       "      <td>88</td>\n",
       "      <td>0.005936</td>\n",
       "      <td>0.005936</td>\n",
       "    </tr>\n",
       "    <tr>\n",
       "      <th>(30000, 40000]</th>\n",
       "      <td>2047</td>\n",
       "      <td>0.138078</td>\n",
       "      <td>0.144013</td>\n",
       "    </tr>\n",
       "    <tr>\n",
       "      <th>(40000, 50000]</th>\n",
       "      <td>1899</td>\n",
       "      <td>0.128094</td>\n",
       "      <td>0.272108</td>\n",
       "    </tr>\n",
       "    <tr>\n",
       "      <th>(50000, 60000]</th>\n",
       "      <td>2659</td>\n",
       "      <td>0.179359</td>\n",
       "      <td>0.451467</td>\n",
       "    </tr>\n",
       "    <tr>\n",
       "      <th>(60000, 70000]</th>\n",
       "      <td>2347</td>\n",
       "      <td>0.158314</td>\n",
       "      <td>0.609781</td>\n",
       "    </tr>\n",
       "    <tr>\n",
       "      <th>(70000, 80000]</th>\n",
       "      <td>2220</td>\n",
       "      <td>0.149747</td>\n",
       "      <td>0.759528</td>\n",
       "    </tr>\n",
       "    <tr>\n",
       "      <th>(80000, 90000]</th>\n",
       "      <td>1371</td>\n",
       "      <td>0.092479</td>\n",
       "      <td>0.852007</td>\n",
       "    </tr>\n",
       "    <tr>\n",
       "      <th>(90000, 100000]</th>\n",
       "      <td>1188</td>\n",
       "      <td>0.080135</td>\n",
       "      <td>0.932142</td>\n",
       "    </tr>\n",
       "    <tr>\n",
       "      <th>(100000, 110000]</th>\n",
       "      <td>546</td>\n",
       "      <td>0.036830</td>\n",
       "      <td>0.968971</td>\n",
       "    </tr>\n",
       "    <tr>\n",
       "      <th>(110000, 120000]</th>\n",
       "      <td>460</td>\n",
       "      <td>0.031029</td>\n",
       "      <td>1.000000</td>\n",
       "    </tr>\n",
       "  </tbody>\n",
       "</table>\n",
       "</div>"
      ],
      "text/plain": [
       "                  customer_id   %_total     %_cum\n",
       "income                                           \n",
       "(20000, 30000]             88  0.005936  0.005936\n",
       "(30000, 40000]           2047  0.138078  0.144013\n",
       "(40000, 50000]           1899  0.128094  0.272108\n",
       "(50000, 60000]           2659  0.179359  0.451467\n",
       "(60000, 70000]           2347  0.158314  0.609781\n",
       "(70000, 80000]           2220  0.149747  0.759528\n",
       "(80000, 90000]           1371  0.092479  0.852007\n",
       "(90000, 100000]          1188  0.080135  0.932142\n",
       "(100000, 110000]          546  0.036830  0.968971\n",
       "(110000, 120000]          460  0.031029  1.000000"
      ]
     },
     "execution_count": 790,
     "metadata": {},
     "output_type": "execute_result"
    }
   ],
   "source": [
    "income = clean_df.groupby(pd.cut(clean_df.income, range(int(clean_df.income.min()-10000), int(clean_df.income.max())+10000, 10000))).agg({\"customer_id\":\"nunique\"})\n",
    "income.loc[:,\"%_total\"] = income.customer_id/income.customer_id.sum()\n",
    "income.loc[:,\"%_cum\"] = income[\"%_total\"].cumsum()\n",
    "income"
   ]
  },
  {
   "cell_type": "code",
   "execution_count": 791,
   "metadata": {},
   "outputs": [
    {
     "data": {
      "image/png": "[encoded data removed]",
      "text/plain": [
       "<Figure size 1440x720 with 1 Axes>"
      ]
     },
     "metadata": {
      "needs_background": "light"
     },
     "output_type": "display_data"
    }
   ],
   "source": [
    "income_labels = income.index.tolist()\n",
    "income_len = np.arange(len(income_labels))\n",
    "income_bar = income.customer_id.tolist()\n",
    "fig, ax = plt.subplots(figsize = (20,10))\n",
    "income_rects = ax.bar(income_len, income_bar, width, label = \"income\")\n",
    "\n",
    "\n",
    "ax.set_ylabel('Count')\n",
    "ax.set_title('# Customers by Income Categories')\n",
    "ax.set_xticks(income_len)\n",
    "ax.set_xticklabels(income_labels)\n",
    "ax.legend()\n",
    "\n",
    "autolabel(income_rects, ax)\n",
    "\n",
    "plt.show()"
   ]
  },
  {
   "cell_type": "markdown",
   "metadata": {},
   "source": [
    "### Income, Age and Gender Analysis"
   ]
  },
  {
   "cell_type": "code",
   "execution_count": 850,
   "metadata": {},
   "outputs": [],
   "source": [
    "#Removing gender \"O\" and \"I1 and I2\" from the data\n",
    "helper_df = clean_df.copy()\n",
    "gender_condition = helper_df.gender != \"O\"\n",
    "offer_condition1 = helper_df.offer_id != \"I1\"\n",
    "offer_condition2 = helper_df.offer_id != \"I2\"\n",
    "helper_df = helper_df.loc[gender_condition & offer_condition1 & offer_condition2]"
   ]
  },
  {
   "cell_type": "code",
   "execution_count": 793,
   "metadata": {},
   "outputs": [
    {
     "data": {
      "text/plain": [
       "14610"
      ]
     },
     "execution_count": 793,
     "metadata": {},
     "output_type": "execute_result"
    }
   ],
   "source": [
    "helper_df.customer_id.nunique()"
   ]
  },
  {
   "cell_type": "markdown",
   "metadata": {},
   "source": [
    "After removing gender \"O\" and offers \"I1\" and \"I2\", the new dataset has 14,610 unique customers"
   ]
  },
  {
   "cell_type": "code",
   "execution_count": 794,
   "metadata": {},
   "outputs": [],
   "source": [
    "age_bins = list(np.arange(18,118,10))\n",
    "income_bins = list(np.arange(30000,130000,10000))\n",
    "age_labels = ['{}-{}'.format(i, j) for i, j in zip(age_bins[:-1], age_bins[1:])]\n",
    "income_labels = ['{}-{}'.format(i, j) for i, j in zip(income_bins[:-1], income_bins[1:])]\n",
    "helper_df.age = pd.cut(clean_df.age, bins = age_bins, labels = age_labels)\n",
    "helper_df.income = pd.cut(clean_df.income, bins = income_bins, labels = income_labels)"
   ]
  },
  {
   "cell_type": "code",
   "execution_count": 795,
   "metadata": {},
   "outputs": [],
   "source": [
    "gender_age = helper_df.groupby([\"gender\", \"age\"]).agg({\"event_offer_completed\":\"sum\", \"event_offer_received\":\"sum\"})"
   ]
  },
  {
   "cell_type": "code",
   "execution_count": 796,
   "metadata": {},
   "outputs": [],
   "source": [
    "gender_income = helper_df.groupby([\"gender\", \"income\"]).agg({\"event_offer_completed\":\"sum\", \"event_offer_received\":\"sum\"})"
   ]
  },
  {
   "cell_type": "code",
   "execution_count": 797,
   "metadata": {},
   "outputs": [],
   "source": [
    "gender_income.loc[:,\"completion_%\"] = gender_income.event_offer_completed/gender_income.event_offer_received"
   ]
  },
  {
   "cell_type": "code",
   "execution_count": 798,
   "metadata": {},
   "outputs": [],
   "source": [
    "gender_age.loc[:,\"completion_%\"] = gender_age.event_offer_completed/gender_age.event_offer_received"
   ]
  },
  {
   "cell_type": "code",
   "execution_count": 179,
   "metadata": {},
   "outputs": [],
   "source": [
    "new_df = helper_df.copy()"
   ]
  },
  {
   "cell_type": "code",
   "execution_count": 180,
   "metadata": {},
   "outputs": [
    {
     "data": {
      "text/html": [
       "<div>\n",
       "<style scoped>\n",
       "    .dataframe tbody tr th:only-of-type {\n",
       "        vertical-align: middle;\n",
       "    }\n",
       "\n",
       "    .dataframe tbody tr th {\n",
       "        vertical-align: top;\n",
       "    }\n",
       "\n",
       "    .dataframe thead th {\n",
       "        text-align: right;\n",
       "    }\n",
       "</style>\n",
       "<table border=\"1\" class=\"dataframe\">\n",
       "  <thead>\n",
       "    <tr style=\"text-align: right;\">\n",
       "      <th></th>\n",
       "      <th>customer_id</th>\n",
       "      <th>time</th>\n",
       "      <th>event_offer_completed</th>\n",
       "      <th>event_offer_received</th>\n",
       "      <th>event_offer_viewed</th>\n",
       "      <th>event_transaction</th>\n",
       "      <th>offer_id</th>\n",
       "      <th>txn_amount</th>\n",
       "      <th>gender</th>\n",
       "      <th>age</th>\n",
       "      <th>became_member_on</th>\n",
       "      <th>income</th>\n",
       "      <th>reward</th>\n",
       "      <th>difficulty</th>\n",
       "      <th>duration</th>\n",
       "      <th>offer_type</th>\n",
       "      <th>email</th>\n",
       "      <th>mobile</th>\n",
       "      <th>social</th>\n",
       "      <th>web</th>\n",
       "    </tr>\n",
       "  </thead>\n",
       "  <tbody>\n",
       "    <tr>\n",
       "      <th>0</th>\n",
       "      <td>78afa995795e4d85b5d9ceeca43f5fef</td>\n",
       "      <td>0</td>\n",
       "      <td>0</td>\n",
       "      <td>1</td>\n",
       "      <td>0</td>\n",
       "      <td>0</td>\n",
       "      <td>B3</td>\n",
       "      <td>NaN</td>\n",
       "      <td>F</td>\n",
       "      <td>68-78</td>\n",
       "      <td>2017-05-09</td>\n",
       "      <td>90000-100000</td>\n",
       "      <td>5.0</td>\n",
       "      <td>5.0</td>\n",
       "      <td>7.0</td>\n",
       "      <td>bogo</td>\n",
       "      <td>1.0</td>\n",
       "      <td>1.0</td>\n",
       "      <td>0.0</td>\n",
       "      <td>1.0</td>\n",
       "    </tr>\n",
       "    <tr>\n",
       "      <th>2</th>\n",
       "      <td>e2127556f4f64592b11af22de27a7932</td>\n",
       "      <td>0</td>\n",
       "      <td>0</td>\n",
       "      <td>1</td>\n",
       "      <td>0</td>\n",
       "      <td>0</td>\n",
       "      <td>D4</td>\n",
       "      <td>NaN</td>\n",
       "      <td>M</td>\n",
       "      <td>58-68</td>\n",
       "      <td>2018-04-26</td>\n",
       "      <td>60000-70000</td>\n",
       "      <td>2.0</td>\n",
       "      <td>10.0</td>\n",
       "      <td>7.0</td>\n",
       "      <td>discount</td>\n",
       "      <td>1.0</td>\n",
       "      <td>1.0</td>\n",
       "      <td>0.0</td>\n",
       "      <td>1.0</td>\n",
       "    </tr>\n",
       "    <tr>\n",
       "      <th>5</th>\n",
       "      <td>389bc3fa690240e798340f5a15918d5c</td>\n",
       "      <td>0</td>\n",
       "      <td>0</td>\n",
       "      <td>1</td>\n",
       "      <td>0</td>\n",
       "      <td>0</td>\n",
       "      <td>B4</td>\n",
       "      <td>NaN</td>\n",
       "      <td>M</td>\n",
       "      <td>58-68</td>\n",
       "      <td>2018-02-09</td>\n",
       "      <td>50000-60000</td>\n",
       "      <td>5.0</td>\n",
       "      <td>5.0</td>\n",
       "      <td>5.0</td>\n",
       "      <td>bogo</td>\n",
       "      <td>1.0</td>\n",
       "      <td>1.0</td>\n",
       "      <td>1.0</td>\n",
       "      <td>1.0</td>\n",
       "    </tr>\n",
       "    <tr>\n",
       "      <th>8</th>\n",
       "      <td>aa4862eba776480b8bb9c68455b8c2e1</td>\n",
       "      <td>0</td>\n",
       "      <td>0</td>\n",
       "      <td>1</td>\n",
       "      <td>0</td>\n",
       "      <td>0</td>\n",
       "      <td>D1</td>\n",
       "      <td>NaN</td>\n",
       "      <td>F</td>\n",
       "      <td>58-68</td>\n",
       "      <td>2017-09-11</td>\n",
       "      <td>50000-60000</td>\n",
       "      <td>5.0</td>\n",
       "      <td>20.0</td>\n",
       "      <td>10.0</td>\n",
       "      <td>discount</td>\n",
       "      <td>1.0</td>\n",
       "      <td>0.0</td>\n",
       "      <td>0.0</td>\n",
       "      <td>1.0</td>\n",
       "    </tr>\n",
       "    <tr>\n",
       "      <th>9</th>\n",
       "      <td>31dda685af34476cad5bc968bdb01c53</td>\n",
       "      <td>0</td>\n",
       "      <td>0</td>\n",
       "      <td>1</td>\n",
       "      <td>0</td>\n",
       "      <td>0</td>\n",
       "      <td>D1</td>\n",
       "      <td>NaN</td>\n",
       "      <td>F</td>\n",
       "      <td>58-68</td>\n",
       "      <td>2016-02-11</td>\n",
       "      <td>70000-80000</td>\n",
       "      <td>5.0</td>\n",
       "      <td>20.0</td>\n",
       "      <td>10.0</td>\n",
       "      <td>discount</td>\n",
       "      <td>1.0</td>\n",
       "      <td>0.0</td>\n",
       "      <td>0.0</td>\n",
       "      <td>1.0</td>\n",
       "    </tr>\n",
       "  </tbody>\n",
       "</table>\n",
       "</div>"
      ],
      "text/plain": [
       "                        customer_id  time  event_offer_completed  \\\n",
       "0  78afa995795e4d85b5d9ceeca43f5fef     0                      0   \n",
       "2  e2127556f4f64592b11af22de27a7932     0                      0   \n",
       "5  389bc3fa690240e798340f5a15918d5c     0                      0   \n",
       "8  aa4862eba776480b8bb9c68455b8c2e1     0                      0   \n",
       "9  31dda685af34476cad5bc968bdb01c53     0                      0   \n",
       "\n",
       "   event_offer_received  event_offer_viewed  event_transaction offer_id  \\\n",
       "0                     1                   0                  0       B3   \n",
       "2                     1                   0                  0       D4   \n",
       "5                     1                   0                  0       B4   \n",
       "8                     1                   0                  0       D1   \n",
       "9                     1                   0                  0       D1   \n",
       "\n",
       "   txn_amount gender    age became_member_on        income  reward  \\\n",
       "0         NaN      F  68-78       2017-05-09  90000-100000     5.0   \n",
       "2         NaN      M  58-68       2018-04-26   60000-70000     2.0   \n",
       "5         NaN      M  58-68       2018-02-09   50000-60000     5.0   \n",
       "8         NaN      F  58-68       2017-09-11   50000-60000     5.0   \n",
       "9         NaN      F  58-68       2016-02-11   70000-80000     5.0   \n",
       "\n",
       "   difficulty  duration offer_type  email  mobile  social  web  \n",
       "0         5.0       7.0       bogo    1.0     1.0     0.0  1.0  \n",
       "2        10.0       7.0   discount    1.0     1.0     0.0  1.0  \n",
       "5         5.0       5.0       bogo    1.0     1.0     1.0  1.0  \n",
       "8        20.0      10.0   discount    1.0     0.0     0.0  1.0  \n",
       "9        20.0      10.0   discount    1.0     0.0     0.0  1.0  "
      ]
     },
     "execution_count": 180,
     "metadata": {},
     "output_type": "execute_result"
    }
   ],
   "source": [
    "new_df.head()"
   ]
  },
  {
   "cell_type": "code",
   "execution_count": 799,
   "metadata": {},
   "outputs": [
    {
     "data": {
      "image/png": "[encoded data removed]",
      "text/plain": [
       "<Figure size 1080x576 with 1 Axes>"
      ]
     },
     "metadata": {
      "needs_background": "light"
     },
     "output_type": "display_data"
    }
   ],
   "source": [
    "plt.figure(figsize=(15,8))\n",
    "ax = sns.barplot(x = \"income\", y = \"event_offer_received\", hue = \"gender\", data = gender_income.reset_index(), palette = \"vlag\")\n",
    "ax.set_xlabel(\"Income Categories\")\n",
    "ax.set_ylabel(\"Count\")\n",
    "ax.set_title(\"# Offers Received by Income Categories and Gender\")\n",
    "for p in ax.patches:\n",
    "    ax.annotate(\"%.0f\" % p.get_height(), (p.get_x() + p.get_width() / 2., p.get_height()),\n",
    "                   ha='center', va='center', fontsize=10, color='black', xytext=(0, 5),\n",
    "                 textcoords='offset points')\n",
    "plt.show()"
   ]
  },
  {
   "cell_type": "code",
   "execution_count": 800,
   "metadata": {},
   "outputs": [
    {
     "data": {
      "image/png": "[encoded data removed]",
      "text/plain": [
       "<Figure size 1080x576 with 1 Axes>"
      ]
     },
     "metadata": {
      "needs_background": "light"
     },
     "output_type": "display_data"
    }
   ],
   "source": [
    "plt.figure(figsize=(15,8))\n",
    "ax = sns.barplot(x = \"income\", y = \"completion_%\", hue = \"gender\", data = gender_income.reset_index(), palette = \"vlag\")\n",
    "ax.set_xlabel(\"Income Categories\")\n",
    "ax.set_ylabel(\"Count\")\n",
    "ax.set_title(\"Offer Completion % by Income Categories and Gender\")\n",
    "for p in ax.patches:\n",
    "    ax.annotate(\"%.2f\" % p.get_height(), (p.get_x() + p.get_width() / 2., p.get_height()),\n",
    "                   ha='center', va='center', fontsize=10, color='black', xytext=(0, 5),\n",
    "                 textcoords='offset points')\n",
    "plt.show()"
   ]
  },
  {
   "cell_type": "markdown",
   "metadata": {},
   "source": [
    "As you can see from the graphs and tables above, offer completion % increases as the income level increases however offers received by the higher income levels is much lesser than that of the lower income levels. This might be due to the fact that there are fewer customers in the higher income brackets as you can see in the graph above. However, Starbucks needs to ensure that the higher level income brackets receive more offers per customer than they do currently. This doesn't really mean that the higher income levels respond better to offers. "
   ]
  },
  {
   "cell_type": "code",
   "execution_count": 801,
   "metadata": {},
   "outputs": [
    {
     "data": {
      "image/png": "[encoded data removed]",
      "text/plain": [
       "<Figure size 1080x576 with 1 Axes>"
      ]
     },
     "metadata": {
      "needs_background": "light"
     },
     "output_type": "display_data"
    }
   ],
   "source": [
    "plt.figure(figsize=(15,8))\n",
    "ax = sns.barplot(x = \"age\", y = \"event_offer_received\", hue = \"gender\", data = gender_age.reset_index(), palette = \"vlag\")\n",
    "ax.set_xlabel(\"Age Categories\")\n",
    "ax.set_ylabel(\"Count\")\n",
    "ax.set_title(\"# Offers Received by Age Categories and Gender\")\n",
    "for p in ax.patches:\n",
    "    ax.annotate(\"%.0f\" % p.get_height(), (p.get_x() + p.get_width() / 2., p.get_height()),\n",
    "                   ha='center', va='center', fontsize=10, color='black', xytext=(0, 5),\n",
    "                 textcoords='offset points')\n",
    "plt.show()"
   ]
  },
  {
   "cell_type": "code",
   "execution_count": 802,
   "metadata": {},
   "outputs": [
    {
     "data": {
      "image/png": "[encoded data removed]",
      "text/plain": [
       "<Figure size 1080x576 with 1 Axes>"
      ]
     },
     "metadata": {
      "needs_background": "light"
     },
     "output_type": "display_data"
    }
   ],
   "source": [
    "plt.figure(figsize=(15,8))\n",
    "ax = sns.barplot(x = \"age\", y = \"completion_%\", hue = \"gender\", data = gender_age.reset_index(), palette = \"vlag\")\n",
    "ax.set_xlabel(\"Age Categories\")\n",
    "ax.set_ylabel(\"Count\")\n",
    "ax.set_title(\"Completion % by Age Categories and Gender\")\n",
    "for p in ax.patches:\n",
    "    ax.annotate(\"%.2f\" % p.get_height(), (p.get_x() + p.get_width() / 2., p.get_height()),\n",
    "                   ha='center', va='center', fontsize=10, color='black', xytext=(0, 5),\n",
    "                 textcoords='offset points')\n",
    "plt.show()"
   ]
  },
  {
   "cell_type": "markdown",
   "metadata": {},
   "source": [
    "From the graph above, we can see that females have better offer completion rates than men"
   ]
  },
  {
   "cell_type": "markdown",
   "metadata": {},
   "source": [
    "### Preparing the Customer Dataframe"
   ]
  },
  {
   "cell_type": "code",
   "execution_count": 803,
   "metadata": {},
   "outputs": [],
   "source": [
    "customer_df = helper_df.copy()"
   ]
  },
  {
   "cell_type": "code",
   "execution_count": 804,
   "metadata": {},
   "outputs": [],
   "source": [
    "condition = customer_df.event_offer_completed == 1\n",
    "h1 = customer_df.loc[condition].groupby(\"customer_id\").agg({\"event_offer_completed\":\"sum\", \n",
    "                                                            \"difficulty\":\"sum\", \"reward\":\"sum\"})"
   ]
  },
  {
   "cell_type": "code",
   "execution_count": 805,
   "metadata": {},
   "outputs": [],
   "source": [
    "h2 = customer_df.groupby(\"customer_id\").agg({\"txn_amount\":\"sum\"})"
   ]
  },
  {
   "cell_type": "code",
   "execution_count": 806,
   "metadata": {},
   "outputs": [],
   "source": [
    "merge_customer = pd.merge(h1, h2, on = \"customer_id\")"
   ]
  },
  {
   "cell_type": "code",
   "execution_count": 807,
   "metadata": {},
   "outputs": [],
   "source": [
    "merge_customer.loc[:,\"txn_dif_ratio\"] = merge_customer.txn_amount/merge_customer.difficulty"
   ]
  },
  {
   "cell_type": "code",
   "execution_count": 808,
   "metadata": {},
   "outputs": [
    {
     "data": {
      "text/plain": [
       "210.81199999999998"
      ]
     },
     "execution_count": 808,
     "metadata": {},
     "output_type": "execute_result"
    }
   ],
   "source": [
    "merge_customer.txn_dif_ratio.max()"
   ]
  },
  {
   "cell_type": "code",
   "execution_count": 809,
   "metadata": {},
   "outputs": [
    {
     "data": {
      "text/plain": [
       "0.43319342780020875"
      ]
     },
     "execution_count": 809,
     "metadata": {},
     "output_type": "execute_result"
    }
   ],
   "source": [
    "merge_customer.event_offer_completed.corr(merge_customer.txn_amount)"
   ]
  },
  {
   "cell_type": "markdown",
   "metadata": {},
   "source": [
    "There's a decent correlation between the # offers completed and the total amount spent by a customer"
   ]
  },
  {
   "cell_type": "code",
   "execution_count": 814,
   "metadata": {},
   "outputs": [
    {
     "data": {
      "text/plain": [
       "5388"
      ]
     },
     "execution_count": 814,
     "metadata": {},
     "output_type": "execute_result"
    }
   ],
   "source": [
    "(merge_customer.txn_dif_ratio >=5).sum()"
   ]
  },
  {
   "cell_type": "markdown",
   "metadata": {},
   "source": [
    "From the above cell, we can see that there are ~5400 customers who have spent more than 5 times of the sum of offer difficulties added together.\n",
    "These are customers we can assume will spend regardless of receiving a particular offer. Hence for this subset of customers, we can send fewer offers\n",
    "per customer when compared to the subset whose spend is less than 5 times the sum of offer difficulties"
   ]
  },
  {
   "cell_type": "code",
   "execution_count": 843,
   "metadata": {},
   "outputs": [],
   "source": [
    "clean_customer_df = helper_df.groupby(\"customer_id\").agg({\"event_offer_received\":\"sum\", \"event_offer_completed\":\"sum\",\n",
    "                                                         \"event_transaction\":\"sum\", \"txn_amount\":\"sum\"})"
   ]
  },
  {
   "cell_type": "code",
   "execution_count": null,
   "metadata": {},
   "outputs": [],
   "source": [
    "helper_df = helper_df.set_index(\"customer_id\")"
   ]
  },
  {
   "cell_type": "code",
   "execution_count": 852,
   "metadata": {},
   "outputs": [],
   "source": [
    "clean_customer_df = pd.merge(clean_customer_df,helper_df[['customer_id','gender', \"age\", \"income\", \"became_member_on\"]],on='customer_id', how='left').drop_duplicates(subset = [\"customer_id\"], keep=\"first\")"
   ]
  },
  {
   "cell_type": "code",
   "execution_count": 855,
   "metadata": {},
   "outputs": [],
   "source": [
    "h3 = helper_df.loc[helper_df.event_offer_completed == 1].groupby([\"customer_id\"])[\"offer_id\"].value_counts().\n",
    "unstack(fill_value = 0)"
   ]
  },
  {
   "cell_type": "code",
   "execution_count": 857,
   "metadata": {},
   "outputs": [],
   "source": [
    "h3.reset_index(inplace = True)"
   ]
  },
  {
   "cell_type": "code",
   "execution_count": 859,
   "metadata": {},
   "outputs": [],
   "source": [
    "clean_customer_df = pd.merge(clean_customer_df,h3[['customer_id', 'B1', 'B2', 'B3', 'B4', 'D1', 'D2', 'D3', 'D4']],\n",
    "                             on='customer_id', how='left')"
   ]
  },
  {
   "cell_type": "code",
   "execution_count": 861,
   "metadata": {},
   "outputs": [],
   "source": [
    "clean_customer_df.fillna(0, inplace = True)"
   ]
  },
  {
   "cell_type": "code",
   "execution_count": 862,
   "metadata": {},
   "outputs": [],
   "source": [
    "clean_customer_df = clean_customer_df.astype({'B1':'int', 'B2': 'int',\n",
    "                                             'B3':'int', 'B4': 'int',\n",
    "                                             'D1':'int', 'D2': 'int',\n",
    "                                             'D3':'int', 'D4': 'int',\n",
    "                                             \"age\":\"int\", \"income\":\"int\",\n",
    "                                             \"txn_amount\":\"int\"})"
   ]
  },
  {
   "cell_type": "code",
   "execution_count": 865,
   "metadata": {},
   "outputs": [],
   "source": [
    "merge_customer.reset_index(inplace = True)"
   ]
  },
  {
   "cell_type": "code",
   "execution_count": 866,
   "metadata": {},
   "outputs": [],
   "source": [
    "clean_customer_df = pd.merge(clean_customer_df,merge_customer[['customer_id', 'difficulty', 'reward', 'txn_dif_ratio']],\n",
    "                             on='customer_id', how='left')"
   ]
  },
  {
   "cell_type": "code",
   "execution_count": 867,
   "metadata": {},
   "outputs": [],
   "source": [
    "clean_customer_df.fillna(0, inplace = True)"
   ]
  },
  {
   "cell_type": "code",
   "execution_count": 868,
   "metadata": {},
   "outputs": [],
   "source": [
    "clean_customer_df = clean_customer_df.astype({\"difficulty\":\"int\", \"reward\":\"int\",\n",
    "                                             \"txn_dif_ratio\":\"float\"})"
   ]
  },
  {
   "cell_type": "code",
   "execution_count": 869,
   "metadata": {},
   "outputs": [],
   "source": [
    "clean_customer_df.loc[:,\"txn_dif_ratio\"] = clean_customer_df.txn_amount/clean_customer_df.difficulty"
   ]
  },
  {
   "cell_type": "code",
   "execution_count": 577,
   "metadata": {},
   "outputs": [],
   "source": [
    "clean_customer_df.txn_dif_ratio.fillna(1000, inplace = True)"
   ]
  },
  {
   "cell_type": "markdown",
   "metadata": {},
   "source": [
    "For customers who didn't complete any offers but had transactions will have nan values or inf values so changing them to 1000"
   ]
  },
  {
   "cell_type": "code",
   "execution_count": 971,
   "metadata": {},
   "outputs": [],
   "source": [
    "#Removing customers over age 80 based on the value counts in the above cell\n",
    "clean_customer_df = clean_customer_df.loc[clean_customer_df.age <= 80]"
   ]
  },
  {
   "cell_type": "code",
   "execution_count": null,
   "metadata": {},
   "outputs": [],
   "source": [
    "clean_customer_df.loc[(clean_customer_df.txn_dif_ratio > 0) & (clean_customer_df.txn_dif_ratio <= 2), \"offer_responsiveness\"] = \"high\"\n",
    "clean_customer_df.loc[(clean_customer_df.txn_dif_ratio > 2) & (clean_customer_df.txn_dif_ratio <= 10), \"offer_responsiveness\"] = \"medium\"\n",
    "clean_customer_df.loc[(clean_customer_df.txn_dif_ratio > 10), \"offer_responsiveness\"] = \"low\""
   ]
  },
  {
   "cell_type": "markdown",
   "metadata": {},
   "source": [
    "To solve the problem for whether a customer actually intended to complete the offer when the offer was completed, I'm segmenting the customer\n",
    "based on their transaction amount and offer difficulty. If the ratio of transaction amount to offer difficulty is very low "
   ]
  },
  {
   "cell_type": "code",
   "execution_count": 1275,
   "metadata": {},
   "outputs": [
    {
     "data": {
      "text/plain": [
       "medium    0.635176\n",
       "low       0.281166\n",
       "high      0.083659\n",
       "Name: offer_responsiveness, dtype: float64"
      ]
     },
     "execution_count": 1275,
     "metadata": {},
     "output_type": "execute_result"
    }
   ],
   "source": [
    "clean_customer_df.offer_responsiveness.value_counts(normalize = True)"
   ]
  },
  {
   "cell_type": "code",
   "execution_count": 1078,
   "metadata": {},
   "outputs": [],
   "source": [
    "age_customer_bins = clean_customer_df.age.value_counts(bins = 5).index"
   ]
  },
  {
   "cell_type": "code",
   "execution_count": 1022,
   "metadata": {},
   "outputs": [],
   "source": [
    "income_customer_bins = clean_customer_df.income.value_counts(bins = 5).index"
   ]
  },
  {
   "cell_type": "code",
   "execution_count": 1025,
   "metadata": {},
   "outputs": [],
   "source": [
    "clean_customer_df.loc[:,\"age_cat\"] = pd.cut(clean_customer_df.age, age_customer_bins)"
   ]
  },
  {
   "cell_type": "code",
   "execution_count": 1026,
   "metadata": {},
   "outputs": [],
   "source": [
    "clean_customer_df.loc[:,\"income_cat\"] = pd.cut(clean_customer_df.income, income_customer_bins)"
   ]
  },
  {
   "cell_type": "code",
   "execution_count": 1027,
   "metadata": {},
   "outputs": [],
   "source": [
    "income_cat_df = clean_customer_df.groupby(\"income_cat\")[\"offer_responsiveness\"].value_counts(normalize = True).mul(100)"
   ]
  },
  {
   "cell_type": "code",
   "execution_count": 1028,
   "metadata": {},
   "outputs": [],
   "source": [
    "income_cat_df = income_cat_df.rename(\"percent\").reset_index()"
   ]
  },
  {
   "cell_type": "code",
   "execution_count": 1029,
   "metadata": {},
   "outputs": [],
   "source": [
    "age_cat_df = clean_customer_df.groupby(\"age_cat\")[\"offer_responsiveness\"].value_counts(normalize = True).mul(100)"
   ]
  },
  {
   "cell_type": "code",
   "execution_count": 1030,
   "metadata": {},
   "outputs": [],
   "source": [
    "age_cat_df = age_cat_df.rename(\"percent\").reset_index()"
   ]
  },
  {
   "cell_type": "markdown",
   "metadata": {},
   "source": [
    "### Customer Segment Least Affected by Offers"
   ]
  },
  {
   "cell_type": "code",
   "execution_count": 1265,
   "metadata": {},
   "outputs": [],
   "source": [
    "income_impact = clean_customer_df.groupby([\"income_cat\", \"offer_responsiveness\"]).agg({\"offer_responsiveness\":\"count\"}).stack()\n",
    "income_impact = income_impact.reset_index()\n",
    "income_impact.drop(columns = [\"level_2\"], inplace = True)\n",
    "income_impact.rename(columns = {0:\"count\"}, inplace = True)"
   ]
  },
  {
   "cell_type": "code",
   "execution_count": 1280,
   "metadata": {},
   "outputs": [
    {
     "data": {
      "image/png": "[encoded data removed]",
      "text/plain": [
       "<Figure size 1080x576 with 1 Axes>"
      ]
     },
     "metadata": {
      "needs_background": "light"
     },
     "output_type": "display_data"
    }
   ],
   "source": [
    "plt.figure(figsize = (15,8))\n",
    "ax = sns.barplot(x = \"offer_responsiveness\", y = \"count\", hue = \"income_cat\", data = income_impact, order = [\"high\", \"medium\", \"low\"])\n",
    "ax.set_xlabel(\"Offer Impact Categories\")\n",
    "ax.set_ylabel(\"Count\")\n",
    "ax.set_title(\"Count of Income Category by Offer Impact\")\n",
    "for p in ax.patches:\n",
    "    ax.annotate(\"%.0f\" % p.get_height(), (p.get_x() + p.get_width() / 2., p.get_height()),\n",
    "                   ha='center', va='center', fontsize=10, color='black', xytext=(0, 5),\n",
    "                 textcoords='offset points')\n",
    "plt.show()"
   ]
  },
  {
   "cell_type": "code",
   "execution_count": 1281,
   "metadata": {},
   "outputs": [
    {
     "data": {
      "image/png": "[encoded data removed]",
      "text/plain": [
       "<Figure size 1080x576 with 1 Axes>"
      ]
     },
     "metadata": {
      "needs_background": "light"
     },
     "output_type": "display_data"
    }
   ],
   "source": [
    "age_impact = clean_customer_df.groupby([\"age_cat\", \"offer_responsiveness\"]).agg({\"offer_responsiveness\":\"count\"}).stack()\n",
    "age_impact = age_impact.reset_index()\n",
    "age_impact.drop(columns = [\"level_2\"], inplace = True)\n",
    "age_impact.rename(columns = {0:\"count\"}, inplace = True)\n",
    "plt.figure(figsize = (15,8))\n",
    "ax = sns.barplot(x = \"offer_responsiveness\", y = \"count\", hue = \"age_cat\", data = age_impact, order = [\"high\", \"medium\", \"low\"])\n",
    "ax.set_xlabel(\"Offer Impact Categories\")\n",
    "ax.set_ylabel(\"Count\")\n",
    "ax.set_title(\"Count of Age Category by Offer Impact\")\n",
    "for p in ax.patches:\n",
    "    ax.annotate(\"%.0f\" % p.get_height(), (p.get_x() + p.get_width() / 2., p.get_height()),\n",
    "                   ha='center', va='center', fontsize=10, color='black', xytext=(0, 5),\n",
    "                 textcoords='offset points')\n",
    "plt.show()"
   ]
  },
  {
   "cell_type": "markdown",
   "metadata": {},
   "source": [
    "### Offer Heuristics"
   ]
  },
  {
   "cell_type": "markdown",
   "metadata": {},
   "source": [
    "In the section below, I'm going to segment the customers into a few groups by gender, age and income. I will determine the top 2 offers for each group"
   ]
  },
  {
   "cell_type": "code",
   "execution_count": 1070,
   "metadata": {},
   "outputs": [
    {
     "data": {
      "text/plain": [
       "CategoricalDtype(categories=[(55.2, 67.6], (42.8, 55.2], (67.6, 80.0], (30.4, 42.8], (17.936999999999998, 30.4]],\n",
       "              ordered=True)"
      ]
     },
     "execution_count": 1070,
     "metadata": {},
     "output_type": "execute_result"
    }
   ],
   "source": [
    "clean_customer_df.age_cat.dtype"
   ]
  },
  {
   "cell_type": "code",
   "execution_count": 1064,
   "metadata": {},
   "outputs": [],
   "source": [
    "offer_heuristics = clean_customer_df.groupby([\"gender\",\"age_cat\",\"income_cat\"]).agg({\"B1\":\"sum\",\"B2\":\"sum\",\"B3\":\"sum\",\"B4\":\"sum\",\n",
    "                                        \"D1\":\"sum\", \"D2\":\"sum\", \"D3\":\"sum\",\"D4\":\"sum\"})"
   ]
  },
  {
   "cell_type": "code",
   "execution_count": 1065,
   "metadata": {},
   "outputs": [],
   "source": [
    "offer_heuristics.loc[:,\"bogo_total\"] = offer_heuristics.B3 + offer_heuristics.B4 + offer_heuristics.B1 + offer_heuristics.B2"
   ]
  },
  {
   "cell_type": "code",
   "execution_count": 1066,
   "metadata": {},
   "outputs": [],
   "source": [
    "offer_heuristics.loc[:,\"discount_total\"] = offer_heuristics.D2 + offer_heuristics.D3 + offer_heuristics.D1 + offer_heuristics.D4"
   ]
  },
  {
   "cell_type": "code",
   "execution_count": 1067,
   "metadata": {},
   "outputs": [],
   "source": [
    "offer_heuristics.loc[:,\"discount_bogo_ratio\"] = offer_heuristics.discount_total/offer_heuristics.bogo_total"
   ]
  },
  {
   "cell_type": "code",
   "execution_count": 1068,
   "metadata": {},
   "outputs": [],
   "source": [
    "offer_heuristics.dropna(axis = 0, inplace = True)"
   ]
  },
  {
   "cell_type": "code",
   "execution_count": 1283,
   "metadata": {},
   "outputs": [
    {
     "data": {
      "text/html": [
       "<div>\n",
       "<style scoped>\n",
       "    .dataframe tbody tr th:only-of-type {\n",
       "        vertical-align: middle;\n",
       "    }\n",
       "\n",
       "    .dataframe tbody tr th {\n",
       "        vertical-align: top;\n",
       "    }\n",
       "\n",
       "    .dataframe thead th {\n",
       "        text-align: right;\n",
       "    }\n",
       "</style>\n",
       "<table border=\"1\" class=\"dataframe\">\n",
       "  <thead>\n",
       "    <tr style=\"text-align: right;\">\n",
       "      <th></th>\n",
       "      <th></th>\n",
       "      <th></th>\n",
       "      <th>B1</th>\n",
       "      <th>B2</th>\n",
       "      <th>B3</th>\n",
       "      <th>B4</th>\n",
       "      <th>D1</th>\n",
       "      <th>D2</th>\n",
       "      <th>D3</th>\n",
       "      <th>D4</th>\n",
       "      <th>bogo_total</th>\n",
       "      <th>discount_total</th>\n",
       "      <th>discount_bogo_ratio</th>\n",
       "    </tr>\n",
       "    <tr>\n",
       "      <th>gender</th>\n",
       "      <th>age_cat</th>\n",
       "      <th>income_cat</th>\n",
       "      <th></th>\n",
       "      <th></th>\n",
       "      <th></th>\n",
       "      <th></th>\n",
       "      <th></th>\n",
       "      <th></th>\n",
       "      <th></th>\n",
       "      <th></th>\n",
       "      <th></th>\n",
       "      <th></th>\n",
       "      <th></th>\n",
       "    </tr>\n",
       "  </thead>\n",
       "  <tbody>\n",
       "    <tr>\n",
       "      <th rowspan=\"5\" valign=\"top\">F</th>\n",
       "      <th rowspan=\"5\" valign=\"top\">(55.2, 67.6]</th>\n",
       "      <th>(48000.0, 66000.0]</th>\n",
       "      <td>117.0</td>\n",
       "      <td>104.0</td>\n",
       "      <td>121.0</td>\n",
       "      <td>131.0</td>\n",
       "      <td>115.0</td>\n",
       "      <td>120.0</td>\n",
       "      <td>157.0</td>\n",
       "      <td>111.0</td>\n",
       "      <td>473.0</td>\n",
       "      <td>503.0</td>\n",
       "      <td>1.063425</td>\n",
       "    </tr>\n",
       "    <tr>\n",
       "      <th>(29909.999, 48000.0]</th>\n",
       "      <td>40.0</td>\n",
       "      <td>32.0</td>\n",
       "      <td>55.0</td>\n",
       "      <td>36.0</td>\n",
       "      <td>35.0</td>\n",
       "      <td>63.0</td>\n",
       "      <td>73.0</td>\n",
       "      <td>44.0</td>\n",
       "      <td>163.0</td>\n",
       "      <td>215.0</td>\n",
       "      <td>1.319018</td>\n",
       "    </tr>\n",
       "    <tr>\n",
       "      <th>(66000.0, 84000.0]</th>\n",
       "      <td>178.0</td>\n",
       "      <td>168.0</td>\n",
       "      <td>172.0</td>\n",
       "      <td>153.0</td>\n",
       "      <td>157.0</td>\n",
       "      <td>221.0</td>\n",
       "      <td>232.0</td>\n",
       "      <td>168.0</td>\n",
       "      <td>671.0</td>\n",
       "      <td>778.0</td>\n",
       "      <td>1.159463</td>\n",
       "    </tr>\n",
       "    <tr>\n",
       "      <th>(84000.0, 102000.0]</th>\n",
       "      <td>162.0</td>\n",
       "      <td>120.0</td>\n",
       "      <td>148.0</td>\n",
       "      <td>144.0</td>\n",
       "      <td>140.0</td>\n",
       "      <td>157.0</td>\n",
       "      <td>156.0</td>\n",
       "      <td>149.0</td>\n",
       "      <td>574.0</td>\n",
       "      <td>602.0</td>\n",
       "      <td>1.048780</td>\n",
       "    </tr>\n",
       "    <tr>\n",
       "      <th>(102000.0, 120000.0]</th>\n",
       "      <td>80.0</td>\n",
       "      <td>88.0</td>\n",
       "      <td>60.0</td>\n",
       "      <td>81.0</td>\n",
       "      <td>81.0</td>\n",
       "      <td>86.0</td>\n",
       "      <td>96.0</td>\n",
       "      <td>77.0</td>\n",
       "      <td>309.0</td>\n",
       "      <td>340.0</td>\n",
       "      <td>1.100324</td>\n",
       "    </tr>\n",
       "  </tbody>\n",
       "</table>\n",
       "</div>"
      ],
      "text/plain": [
       "                                             B1     B2     B3     B4     D1  \\\n",
       "gender age_cat      income_cat                                                \n",
       "F      (55.2, 67.6] (48000.0, 66000.0]    117.0  104.0  121.0  131.0  115.0   \n",
       "                    (29909.999, 48000.0]   40.0   32.0   55.0   36.0   35.0   \n",
       "                    (66000.0, 84000.0]    178.0  168.0  172.0  153.0  157.0   \n",
       "                    (84000.0, 102000.0]   162.0  120.0  148.0  144.0  140.0   \n",
       "                    (102000.0, 120000.0]   80.0   88.0   60.0   81.0   81.0   \n",
       "\n",
       "                                             D2     D3     D4  bogo_total  \\\n",
       "gender age_cat      income_cat                                              \n",
       "F      (55.2, 67.6] (48000.0, 66000.0]    120.0  157.0  111.0       473.0   \n",
       "                    (29909.999, 48000.0]   63.0   73.0   44.0       163.0   \n",
       "                    (66000.0, 84000.0]    221.0  232.0  168.0       671.0   \n",
       "                    (84000.0, 102000.0]   157.0  156.0  149.0       574.0   \n",
       "                    (102000.0, 120000.0]   86.0   96.0   77.0       309.0   \n",
       "\n",
       "                                          discount_total  discount_bogo_ratio  \n",
       "gender age_cat      income_cat                                                 \n",
       "F      (55.2, 67.6] (48000.0, 66000.0]             503.0             1.063425  \n",
       "                    (29909.999, 48000.0]           215.0             1.319018  \n",
       "                    (66000.0, 84000.0]             778.0             1.159463  \n",
       "                    (84000.0, 102000.0]            602.0             1.048780  \n",
       "                    (102000.0, 120000.0]           340.0             1.100324  "
      ]
     },
     "execution_count": 1283,
     "metadata": {},
     "output_type": "execute_result"
    }
   ],
   "source": [
    "offer_heuristics.head()"
   ]
  },
  {
   "cell_type": "markdown",
   "metadata": {},
   "source": [
    "Observation #1: Males react more to discount offers compared to females"
   ]
  },
  {
   "cell_type": "markdown",
   "metadata": {},
   "source": [
    "Observation #2: B3 and B4 are better bogo offers than B1 and B2"
   ]
  },
  {
   "cell_type": "markdown",
   "metadata": {},
   "source": [
    "Observation #3: D2 and D3 are better discount offers than D1 and D4"
   ]
  },
  {
   "cell_type": "markdown",
   "metadata": {},
   "source": [
    "For each of the customer segments, we will list out the top 2 offers they respond to"
   ]
  },
  {
   "cell_type": "code",
   "execution_count": 1121,
   "metadata": {},
   "outputs": [],
   "source": [
    "top_2_offers = offer_heuristics.loc[:,[\"B1\", \"B2\", \"B3\", \"B4\", \"D1\", \"D2\", \"D3\", \"D4\"]]"
   ]
  },
  {
   "cell_type": "code",
   "execution_count": 1140,
   "metadata": {},
   "outputs": [],
   "source": [
    "top_2_offers.loc[:,\"Top_2_Offers\"] = top_2_offers.apply(lambda s, n: s.nlargest(n).index.tolist(), axis=1, n=2).values"
   ]
  },
  {
   "cell_type": "code",
   "execution_count": 1284,
   "metadata": {},
   "outputs": [
    {
     "data": {
      "text/html": [
       "<div>\n",
       "<style scoped>\n",
       "    .dataframe tbody tr th:only-of-type {\n",
       "        vertical-align: middle;\n",
       "    }\n",
       "\n",
       "    .dataframe tbody tr th {\n",
       "        vertical-align: top;\n",
       "    }\n",
       "\n",
       "    .dataframe thead th {\n",
       "        text-align: right;\n",
       "    }\n",
       "</style>\n",
       "<table border=\"1\" class=\"dataframe\">\n",
       "  <thead>\n",
       "    <tr style=\"text-align: right;\">\n",
       "      <th></th>\n",
       "      <th>gender</th>\n",
       "      <th>age_cat</th>\n",
       "      <th>income_cat</th>\n",
       "      <th>B1</th>\n",
       "      <th>B2</th>\n",
       "      <th>B3</th>\n",
       "      <th>B4</th>\n",
       "      <th>D1</th>\n",
       "      <th>D2</th>\n",
       "      <th>D3</th>\n",
       "      <th>D4</th>\n",
       "      <th>Top_2_Offers</th>\n",
       "    </tr>\n",
       "  </thead>\n",
       "  <tbody>\n",
       "    <tr>\n",
       "      <th>0</th>\n",
       "      <td>F</td>\n",
       "      <td>(55.2, 67.6]</td>\n",
       "      <td>(48000.0, 66000.0]</td>\n",
       "      <td>117.0</td>\n",
       "      <td>104.0</td>\n",
       "      <td>121.0</td>\n",
       "      <td>131.0</td>\n",
       "      <td>115.0</td>\n",
       "      <td>120.0</td>\n",
       "      <td>157.0</td>\n",
       "      <td>111.0</td>\n",
       "      <td>[D3, B4]</td>\n",
       "    </tr>\n",
       "    <tr>\n",
       "      <th>1</th>\n",
       "      <td>F</td>\n",
       "      <td>(55.2, 67.6]</td>\n",
       "      <td>(29909.999, 48000.0]</td>\n",
       "      <td>40.0</td>\n",
       "      <td>32.0</td>\n",
       "      <td>55.0</td>\n",
       "      <td>36.0</td>\n",
       "      <td>35.0</td>\n",
       "      <td>63.0</td>\n",
       "      <td>73.0</td>\n",
       "      <td>44.0</td>\n",
       "      <td>[D3, D2]</td>\n",
       "    </tr>\n",
       "    <tr>\n",
       "      <th>2</th>\n",
       "      <td>F</td>\n",
       "      <td>(55.2, 67.6]</td>\n",
       "      <td>(66000.0, 84000.0]</td>\n",
       "      <td>178.0</td>\n",
       "      <td>168.0</td>\n",
       "      <td>172.0</td>\n",
       "      <td>153.0</td>\n",
       "      <td>157.0</td>\n",
       "      <td>221.0</td>\n",
       "      <td>232.0</td>\n",
       "      <td>168.0</td>\n",
       "      <td>[D3, D2]</td>\n",
       "    </tr>\n",
       "    <tr>\n",
       "      <th>3</th>\n",
       "      <td>F</td>\n",
       "      <td>(55.2, 67.6]</td>\n",
       "      <td>(84000.0, 102000.0]</td>\n",
       "      <td>162.0</td>\n",
       "      <td>120.0</td>\n",
       "      <td>148.0</td>\n",
       "      <td>144.0</td>\n",
       "      <td>140.0</td>\n",
       "      <td>157.0</td>\n",
       "      <td>156.0</td>\n",
       "      <td>149.0</td>\n",
       "      <td>[B1, D2]</td>\n",
       "    </tr>\n",
       "    <tr>\n",
       "      <th>4</th>\n",
       "      <td>F</td>\n",
       "      <td>(55.2, 67.6]</td>\n",
       "      <td>(102000.0, 120000.0]</td>\n",
       "      <td>80.0</td>\n",
       "      <td>88.0</td>\n",
       "      <td>60.0</td>\n",
       "      <td>81.0</td>\n",
       "      <td>81.0</td>\n",
       "      <td>86.0</td>\n",
       "      <td>96.0</td>\n",
       "      <td>77.0</td>\n",
       "      <td>[D3, B2]</td>\n",
       "    </tr>\n",
       "    <tr>\n",
       "      <th>5</th>\n",
       "      <td>F</td>\n",
       "      <td>(42.8, 55.2]</td>\n",
       "      <td>(48000.0, 66000.0]</td>\n",
       "      <td>125.0</td>\n",
       "      <td>104.0</td>\n",
       "      <td>128.0</td>\n",
       "      <td>140.0</td>\n",
       "      <td>117.0</td>\n",
       "      <td>164.0</td>\n",
       "      <td>151.0</td>\n",
       "      <td>145.0</td>\n",
       "      <td>[D2, D3]</td>\n",
       "    </tr>\n",
       "    <tr>\n",
       "      <th>6</th>\n",
       "      <td>F</td>\n",
       "      <td>(42.8, 55.2]</td>\n",
       "      <td>(29909.999, 48000.0]</td>\n",
       "      <td>35.0</td>\n",
       "      <td>34.0</td>\n",
       "      <td>70.0</td>\n",
       "      <td>59.0</td>\n",
       "      <td>36.0</td>\n",
       "      <td>61.0</td>\n",
       "      <td>61.0</td>\n",
       "      <td>45.0</td>\n",
       "      <td>[B3, D2]</td>\n",
       "    </tr>\n",
       "    <tr>\n",
       "      <th>7</th>\n",
       "      <td>F</td>\n",
       "      <td>(42.8, 55.2]</td>\n",
       "      <td>(66000.0, 84000.0]</td>\n",
       "      <td>131.0</td>\n",
       "      <td>142.0</td>\n",
       "      <td>154.0</td>\n",
       "      <td>124.0</td>\n",
       "      <td>131.0</td>\n",
       "      <td>149.0</td>\n",
       "      <td>152.0</td>\n",
       "      <td>151.0</td>\n",
       "      <td>[B3, D3]</td>\n",
       "    </tr>\n",
       "    <tr>\n",
       "      <th>8</th>\n",
       "      <td>F</td>\n",
       "      <td>(42.8, 55.2]</td>\n",
       "      <td>(84000.0, 102000.0]</td>\n",
       "      <td>121.0</td>\n",
       "      <td>122.0</td>\n",
       "      <td>103.0</td>\n",
       "      <td>116.0</td>\n",
       "      <td>99.0</td>\n",
       "      <td>112.0</td>\n",
       "      <td>112.0</td>\n",
       "      <td>99.0</td>\n",
       "      <td>[B2, B1]</td>\n",
       "    </tr>\n",
       "    <tr>\n",
       "      <th>9</th>\n",
       "      <td>F</td>\n",
       "      <td>(42.8, 55.2]</td>\n",
       "      <td>(102000.0, 120000.0]</td>\n",
       "      <td>36.0</td>\n",
       "      <td>49.0</td>\n",
       "      <td>63.0</td>\n",
       "      <td>51.0</td>\n",
       "      <td>42.0</td>\n",
       "      <td>49.0</td>\n",
       "      <td>68.0</td>\n",
       "      <td>46.0</td>\n",
       "      <td>[D3, B3]</td>\n",
       "    </tr>\n",
       "    <tr>\n",
       "      <th>10</th>\n",
       "      <td>F</td>\n",
       "      <td>(67.6, 80.0]</td>\n",
       "      <td>(48000.0, 66000.0]</td>\n",
       "      <td>74.0</td>\n",
       "      <td>62.0</td>\n",
       "      <td>75.0</td>\n",
       "      <td>76.0</td>\n",
       "      <td>51.0</td>\n",
       "      <td>86.0</td>\n",
       "      <td>64.0</td>\n",
       "      <td>61.0</td>\n",
       "      <td>[D2, B4]</td>\n",
       "    </tr>\n",
       "    <tr>\n",
       "      <th>11</th>\n",
       "      <td>F</td>\n",
       "      <td>(67.6, 80.0]</td>\n",
       "      <td>(29909.999, 48000.0]</td>\n",
       "      <td>18.0</td>\n",
       "      <td>22.0</td>\n",
       "      <td>44.0</td>\n",
       "      <td>40.0</td>\n",
       "      <td>37.0</td>\n",
       "      <td>52.0</td>\n",
       "      <td>42.0</td>\n",
       "      <td>35.0</td>\n",
       "      <td>[D2, B3]</td>\n",
       "    </tr>\n",
       "    <tr>\n",
       "      <th>12</th>\n",
       "      <td>F</td>\n",
       "      <td>(67.6, 80.0]</td>\n",
       "      <td>(66000.0, 84000.0]</td>\n",
       "      <td>106.0</td>\n",
       "      <td>129.0</td>\n",
       "      <td>107.0</td>\n",
       "      <td>81.0</td>\n",
       "      <td>96.0</td>\n",
       "      <td>111.0</td>\n",
       "      <td>120.0</td>\n",
       "      <td>101.0</td>\n",
       "      <td>[B2, D3]</td>\n",
       "    </tr>\n",
       "    <tr>\n",
       "      <th>13</th>\n",
       "      <td>F</td>\n",
       "      <td>(67.6, 80.0]</td>\n",
       "      <td>(84000.0, 102000.0]</td>\n",
       "      <td>88.0</td>\n",
       "      <td>74.0</td>\n",
       "      <td>91.0</td>\n",
       "      <td>92.0</td>\n",
       "      <td>109.0</td>\n",
       "      <td>97.0</td>\n",
       "      <td>89.0</td>\n",
       "      <td>74.0</td>\n",
       "      <td>[D1, D2]</td>\n",
       "    </tr>\n",
       "    <tr>\n",
       "      <th>14</th>\n",
       "      <td>F</td>\n",
       "      <td>(67.6, 80.0]</td>\n",
       "      <td>(102000.0, 120000.0]</td>\n",
       "      <td>46.0</td>\n",
       "      <td>42.0</td>\n",
       "      <td>57.0</td>\n",
       "      <td>65.0</td>\n",
       "      <td>54.0</td>\n",
       "      <td>54.0</td>\n",
       "      <td>60.0</td>\n",
       "      <td>64.0</td>\n",
       "      <td>[B4, D4]</td>\n",
       "    </tr>\n",
       "    <tr>\n",
       "      <th>15</th>\n",
       "      <td>F</td>\n",
       "      <td>(30.4, 42.8]</td>\n",
       "      <td>(48000.0, 66000.0]</td>\n",
       "      <td>72.0</td>\n",
       "      <td>70.0</td>\n",
       "      <td>91.0</td>\n",
       "      <td>72.0</td>\n",
       "      <td>67.0</td>\n",
       "      <td>104.0</td>\n",
       "      <td>74.0</td>\n",
       "      <td>78.0</td>\n",
       "      <td>[D2, B3]</td>\n",
       "    </tr>\n",
       "    <tr>\n",
       "      <th>16</th>\n",
       "      <td>F</td>\n",
       "      <td>(30.4, 42.8]</td>\n",
       "      <td>(29909.999, 48000.0]</td>\n",
       "      <td>50.0</td>\n",
       "      <td>35.0</td>\n",
       "      <td>64.0</td>\n",
       "      <td>52.0</td>\n",
       "      <td>45.0</td>\n",
       "      <td>70.0</td>\n",
       "      <td>71.0</td>\n",
       "      <td>50.0</td>\n",
       "      <td>[D3, D2]</td>\n",
       "    </tr>\n",
       "    <tr>\n",
       "      <th>17</th>\n",
       "      <td>F</td>\n",
       "      <td>(30.4, 42.8]</td>\n",
       "      <td>(66000.0, 84000.0]</td>\n",
       "      <td>47.0</td>\n",
       "      <td>48.0</td>\n",
       "      <td>49.0</td>\n",
       "      <td>31.0</td>\n",
       "      <td>32.0</td>\n",
       "      <td>65.0</td>\n",
       "      <td>56.0</td>\n",
       "      <td>40.0</td>\n",
       "      <td>[D2, D3]</td>\n",
       "    </tr>\n",
       "    <tr>\n",
       "      <th>18</th>\n",
       "      <td>F</td>\n",
       "      <td>(30.4, 42.8]</td>\n",
       "      <td>(84000.0, 102000.0]</td>\n",
       "      <td>20.0</td>\n",
       "      <td>16.0</td>\n",
       "      <td>18.0</td>\n",
       "      <td>13.0</td>\n",
       "      <td>12.0</td>\n",
       "      <td>18.0</td>\n",
       "      <td>21.0</td>\n",
       "      <td>19.0</td>\n",
       "      <td>[D3, B1]</td>\n",
       "    </tr>\n",
       "    <tr>\n",
       "      <th>19</th>\n",
       "      <td>F</td>\n",
       "      <td>(17.936999999999998, 30.4]</td>\n",
       "      <td>(48000.0, 66000.0]</td>\n",
       "      <td>50.0</td>\n",
       "      <td>51.0</td>\n",
       "      <td>63.0</td>\n",
       "      <td>75.0</td>\n",
       "      <td>48.0</td>\n",
       "      <td>73.0</td>\n",
       "      <td>68.0</td>\n",
       "      <td>48.0</td>\n",
       "      <td>[B4, D2]</td>\n",
       "    </tr>\n",
       "    <tr>\n",
       "      <th>20</th>\n",
       "      <td>F</td>\n",
       "      <td>(17.936999999999998, 30.4]</td>\n",
       "      <td>(29909.999, 48000.0]</td>\n",
       "      <td>45.0</td>\n",
       "      <td>43.0</td>\n",
       "      <td>52.0</td>\n",
       "      <td>64.0</td>\n",
       "      <td>34.0</td>\n",
       "      <td>73.0</td>\n",
       "      <td>59.0</td>\n",
       "      <td>53.0</td>\n",
       "      <td>[D2, B4]</td>\n",
       "    </tr>\n",
       "    <tr>\n",
       "      <th>21</th>\n",
       "      <td>F</td>\n",
       "      <td>(17.936999999999998, 30.4]</td>\n",
       "      <td>(66000.0, 84000.0]</td>\n",
       "      <td>24.0</td>\n",
       "      <td>23.0</td>\n",
       "      <td>33.0</td>\n",
       "      <td>27.0</td>\n",
       "      <td>17.0</td>\n",
       "      <td>25.0</td>\n",
       "      <td>25.0</td>\n",
       "      <td>22.0</td>\n",
       "      <td>[B3, B4]</td>\n",
       "    </tr>\n",
       "    <tr>\n",
       "      <th>22</th>\n",
       "      <td>M</td>\n",
       "      <td>(55.2, 67.6]</td>\n",
       "      <td>(48000.0, 66000.0]</td>\n",
       "      <td>124.0</td>\n",
       "      <td>101.0</td>\n",
       "      <td>150.0</td>\n",
       "      <td>161.0</td>\n",
       "      <td>93.0</td>\n",
       "      <td>195.0</td>\n",
       "      <td>191.0</td>\n",
       "      <td>165.0</td>\n",
       "      <td>[D2, D3]</td>\n",
       "    </tr>\n",
       "    <tr>\n",
       "      <th>23</th>\n",
       "      <td>M</td>\n",
       "      <td>(55.2, 67.6]</td>\n",
       "      <td>(29909.999, 48000.0]</td>\n",
       "      <td>54.0</td>\n",
       "      <td>47.0</td>\n",
       "      <td>92.0</td>\n",
       "      <td>106.0</td>\n",
       "      <td>47.0</td>\n",
       "      <td>133.0</td>\n",
       "      <td>139.0</td>\n",
       "      <td>82.0</td>\n",
       "      <td>[D3, D2]</td>\n",
       "    </tr>\n",
       "    <tr>\n",
       "      <th>24</th>\n",
       "      <td>M</td>\n",
       "      <td>(55.2, 67.6]</td>\n",
       "      <td>(66000.0, 84000.0]</td>\n",
       "      <td>151.0</td>\n",
       "      <td>138.0</td>\n",
       "      <td>164.0</td>\n",
       "      <td>182.0</td>\n",
       "      <td>141.0</td>\n",
       "      <td>185.0</td>\n",
       "      <td>197.0</td>\n",
       "      <td>189.0</td>\n",
       "      <td>[D3, D4]</td>\n",
       "    </tr>\n",
       "    <tr>\n",
       "      <th>25</th>\n",
       "      <td>M</td>\n",
       "      <td>(55.2, 67.6]</td>\n",
       "      <td>(84000.0, 102000.0]</td>\n",
       "      <td>120.0</td>\n",
       "      <td>81.0</td>\n",
       "      <td>124.0</td>\n",
       "      <td>81.0</td>\n",
       "      <td>112.0</td>\n",
       "      <td>96.0</td>\n",
       "      <td>115.0</td>\n",
       "      <td>112.0</td>\n",
       "      <td>[B3, B1]</td>\n",
       "    </tr>\n",
       "    <tr>\n",
       "      <th>26</th>\n",
       "      <td>M</td>\n",
       "      <td>(55.2, 67.6]</td>\n",
       "      <td>(102000.0, 120000.0]</td>\n",
       "      <td>51.0</td>\n",
       "      <td>39.0</td>\n",
       "      <td>43.0</td>\n",
       "      <td>41.0</td>\n",
       "      <td>47.0</td>\n",
       "      <td>39.0</td>\n",
       "      <td>55.0</td>\n",
       "      <td>41.0</td>\n",
       "      <td>[D3, B1]</td>\n",
       "    </tr>\n",
       "    <tr>\n",
       "      <th>27</th>\n",
       "      <td>M</td>\n",
       "      <td>(42.8, 55.2]</td>\n",
       "      <td>(48000.0, 66000.0]</td>\n",
       "      <td>151.0</td>\n",
       "      <td>140.0</td>\n",
       "      <td>180.0</td>\n",
       "      <td>178.0</td>\n",
       "      <td>150.0</td>\n",
       "      <td>216.0</td>\n",
       "      <td>217.0</td>\n",
       "      <td>154.0</td>\n",
       "      <td>[D3, D2]</td>\n",
       "    </tr>\n",
       "    <tr>\n",
       "      <th>28</th>\n",
       "      <td>M</td>\n",
       "      <td>(42.8, 55.2]</td>\n",
       "      <td>(29909.999, 48000.0]</td>\n",
       "      <td>74.0</td>\n",
       "      <td>58.0</td>\n",
       "      <td>114.0</td>\n",
       "      <td>98.0</td>\n",
       "      <td>72.0</td>\n",
       "      <td>148.0</td>\n",
       "      <td>156.0</td>\n",
       "      <td>92.0</td>\n",
       "      <td>[D3, D2]</td>\n",
       "    </tr>\n",
       "    <tr>\n",
       "      <th>29</th>\n",
       "      <td>M</td>\n",
       "      <td>(42.8, 55.2]</td>\n",
       "      <td>(66000.0, 84000.0]</td>\n",
       "      <td>150.0</td>\n",
       "      <td>151.0</td>\n",
       "      <td>170.0</td>\n",
       "      <td>170.0</td>\n",
       "      <td>147.0</td>\n",
       "      <td>186.0</td>\n",
       "      <td>180.0</td>\n",
       "      <td>139.0</td>\n",
       "      <td>[D2, D3]</td>\n",
       "    </tr>\n",
       "    <tr>\n",
       "      <th>30</th>\n",
       "      <td>M</td>\n",
       "      <td>(42.8, 55.2]</td>\n",
       "      <td>(84000.0, 102000.0]</td>\n",
       "      <td>93.0</td>\n",
       "      <td>70.0</td>\n",
       "      <td>89.0</td>\n",
       "      <td>79.0</td>\n",
       "      <td>69.0</td>\n",
       "      <td>85.0</td>\n",
       "      <td>108.0</td>\n",
       "      <td>83.0</td>\n",
       "      <td>[D3, B1]</td>\n",
       "    </tr>\n",
       "    <tr>\n",
       "      <th>31</th>\n",
       "      <td>M</td>\n",
       "      <td>(42.8, 55.2]</td>\n",
       "      <td>(102000.0, 120000.0]</td>\n",
       "      <td>24.0</td>\n",
       "      <td>33.0</td>\n",
       "      <td>22.0</td>\n",
       "      <td>23.0</td>\n",
       "      <td>26.0</td>\n",
       "      <td>24.0</td>\n",
       "      <td>23.0</td>\n",
       "      <td>24.0</td>\n",
       "      <td>[B2, D1]</td>\n",
       "    </tr>\n",
       "    <tr>\n",
       "      <th>32</th>\n",
       "      <td>M</td>\n",
       "      <td>(67.6, 80.0]</td>\n",
       "      <td>(48000.0, 66000.0]</td>\n",
       "      <td>58.0</td>\n",
       "      <td>72.0</td>\n",
       "      <td>96.0</td>\n",
       "      <td>97.0</td>\n",
       "      <td>70.0</td>\n",
       "      <td>111.0</td>\n",
       "      <td>136.0</td>\n",
       "      <td>91.0</td>\n",
       "      <td>[D3, D2]</td>\n",
       "    </tr>\n",
       "    <tr>\n",
       "      <th>33</th>\n",
       "      <td>M</td>\n",
       "      <td>(67.6, 80.0]</td>\n",
       "      <td>(29909.999, 48000.0]</td>\n",
       "      <td>22.0</td>\n",
       "      <td>29.0</td>\n",
       "      <td>51.0</td>\n",
       "      <td>62.0</td>\n",
       "      <td>32.0</td>\n",
       "      <td>89.0</td>\n",
       "      <td>71.0</td>\n",
       "      <td>41.0</td>\n",
       "      <td>[D2, D3]</td>\n",
       "    </tr>\n",
       "    <tr>\n",
       "      <th>34</th>\n",
       "      <td>M</td>\n",
       "      <td>(67.6, 80.0]</td>\n",
       "      <td>(66000.0, 84000.0]</td>\n",
       "      <td>82.0</td>\n",
       "      <td>82.0</td>\n",
       "      <td>95.0</td>\n",
       "      <td>84.0</td>\n",
       "      <td>80.0</td>\n",
       "      <td>102.0</td>\n",
       "      <td>102.0</td>\n",
       "      <td>103.0</td>\n",
       "      <td>[D4, D2]</td>\n",
       "    </tr>\n",
       "    <tr>\n",
       "      <th>35</th>\n",
       "      <td>M</td>\n",
       "      <td>(67.6, 80.0]</td>\n",
       "      <td>(84000.0, 102000.0]</td>\n",
       "      <td>76.0</td>\n",
       "      <td>61.0</td>\n",
       "      <td>54.0</td>\n",
       "      <td>63.0</td>\n",
       "      <td>57.0</td>\n",
       "      <td>75.0</td>\n",
       "      <td>76.0</td>\n",
       "      <td>61.0</td>\n",
       "      <td>[B1, D3]</td>\n",
       "    </tr>\n",
       "    <tr>\n",
       "      <th>36</th>\n",
       "      <td>M</td>\n",
       "      <td>(67.6, 80.0]</td>\n",
       "      <td>(102000.0, 120000.0]</td>\n",
       "      <td>29.0</td>\n",
       "      <td>27.0</td>\n",
       "      <td>27.0</td>\n",
       "      <td>22.0</td>\n",
       "      <td>32.0</td>\n",
       "      <td>25.0</td>\n",
       "      <td>36.0</td>\n",
       "      <td>27.0</td>\n",
       "      <td>[D3, D1]</td>\n",
       "    </tr>\n",
       "    <tr>\n",
       "      <th>37</th>\n",
       "      <td>M</td>\n",
       "      <td>(30.4, 42.8]</td>\n",
       "      <td>(48000.0, 66000.0]</td>\n",
       "      <td>111.0</td>\n",
       "      <td>73.0</td>\n",
       "      <td>126.0</td>\n",
       "      <td>120.0</td>\n",
       "      <td>83.0</td>\n",
       "      <td>158.0</td>\n",
       "      <td>160.0</td>\n",
       "      <td>104.0</td>\n",
       "      <td>[D3, D2]</td>\n",
       "    </tr>\n",
       "    <tr>\n",
       "      <th>38</th>\n",
       "      <td>M</td>\n",
       "      <td>(30.4, 42.8]</td>\n",
       "      <td>(29909.999, 48000.0]</td>\n",
       "      <td>63.0</td>\n",
       "      <td>51.0</td>\n",
       "      <td>109.0</td>\n",
       "      <td>98.0</td>\n",
       "      <td>49.0</td>\n",
       "      <td>129.0</td>\n",
       "      <td>164.0</td>\n",
       "      <td>94.0</td>\n",
       "      <td>[D3, D2]</td>\n",
       "    </tr>\n",
       "    <tr>\n",
       "      <th>39</th>\n",
       "      <td>M</td>\n",
       "      <td>(30.4, 42.8]</td>\n",
       "      <td>(66000.0, 84000.0]</td>\n",
       "      <td>47.0</td>\n",
       "      <td>47.0</td>\n",
       "      <td>57.0</td>\n",
       "      <td>69.0</td>\n",
       "      <td>51.0</td>\n",
       "      <td>78.0</td>\n",
       "      <td>90.0</td>\n",
       "      <td>54.0</td>\n",
       "      <td>[D3, D2]</td>\n",
       "    </tr>\n",
       "    <tr>\n",
       "      <th>40</th>\n",
       "      <td>M</td>\n",
       "      <td>(30.4, 42.8]</td>\n",
       "      <td>(84000.0, 102000.0]</td>\n",
       "      <td>34.0</td>\n",
       "      <td>21.0</td>\n",
       "      <td>21.0</td>\n",
       "      <td>19.0</td>\n",
       "      <td>22.0</td>\n",
       "      <td>26.0</td>\n",
       "      <td>24.0</td>\n",
       "      <td>23.0</td>\n",
       "      <td>[B1, D2]</td>\n",
       "    </tr>\n",
       "    <tr>\n",
       "      <th>41</th>\n",
       "      <td>M</td>\n",
       "      <td>(17.936999999999998, 30.4]</td>\n",
       "      <td>(48000.0, 66000.0]</td>\n",
       "      <td>60.0</td>\n",
       "      <td>45.0</td>\n",
       "      <td>95.0</td>\n",
       "      <td>108.0</td>\n",
       "      <td>62.0</td>\n",
       "      <td>127.0</td>\n",
       "      <td>140.0</td>\n",
       "      <td>93.0</td>\n",
       "      <td>[D3, D2]</td>\n",
       "    </tr>\n",
       "    <tr>\n",
       "      <th>42</th>\n",
       "      <td>M</td>\n",
       "      <td>(17.936999999999998, 30.4]</td>\n",
       "      <td>(29909.999, 48000.0]</td>\n",
       "      <td>57.0</td>\n",
       "      <td>51.0</td>\n",
       "      <td>102.0</td>\n",
       "      <td>102.0</td>\n",
       "      <td>64.0</td>\n",
       "      <td>172.0</td>\n",
       "      <td>161.0</td>\n",
       "      <td>81.0</td>\n",
       "      <td>[D2, D3]</td>\n",
       "    </tr>\n",
       "    <tr>\n",
       "      <th>43</th>\n",
       "      <td>M</td>\n",
       "      <td>(17.936999999999998, 30.4]</td>\n",
       "      <td>(66000.0, 84000.0]</td>\n",
       "      <td>18.0</td>\n",
       "      <td>25.0</td>\n",
       "      <td>43.0</td>\n",
       "      <td>42.0</td>\n",
       "      <td>33.0</td>\n",
       "      <td>61.0</td>\n",
       "      <td>42.0</td>\n",
       "      <td>41.0</td>\n",
       "      <td>[D2, B3]</td>\n",
       "    </tr>\n",
       "  </tbody>\n",
       "</table>\n",
       "</div>"
      ],
      "text/plain": [
       "   gender                     age_cat            income_cat     B1     B2  \\\n",
       "0       F                (55.2, 67.6]    (48000.0, 66000.0]  117.0  104.0   \n",
       "1       F                (55.2, 67.6]  (29909.999, 48000.0]   40.0   32.0   \n",
       "2       F                (55.2, 67.6]    (66000.0, 84000.0]  178.0  168.0   \n",
       "3       F                (55.2, 67.6]   (84000.0, 102000.0]  162.0  120.0   \n",
       "4       F                (55.2, 67.6]  (102000.0, 120000.0]   80.0   88.0   \n",
       "5       F                (42.8, 55.2]    (48000.0, 66000.0]  125.0  104.0   \n",
       "6       F                (42.8, 55.2]  (29909.999, 48000.0]   35.0   34.0   \n",
       "7       F                (42.8, 55.2]    (66000.0, 84000.0]  131.0  142.0   \n",
       "8       F                (42.8, 55.2]   (84000.0, 102000.0]  121.0  122.0   \n",
       "9       F                (42.8, 55.2]  (102000.0, 120000.0]   36.0   49.0   \n",
       "10      F                (67.6, 80.0]    (48000.0, 66000.0]   74.0   62.0   \n",
       "11      F                (67.6, 80.0]  (29909.999, 48000.0]   18.0   22.0   \n",
       "12      F                (67.6, 80.0]    (66000.0, 84000.0]  106.0  129.0   \n",
       "13      F                (67.6, 80.0]   (84000.0, 102000.0]   88.0   74.0   \n",
       "14      F                (67.6, 80.0]  (102000.0, 120000.0]   46.0   42.0   \n",
       "15      F                (30.4, 42.8]    (48000.0, 66000.0]   72.0   70.0   \n",
       "16      F                (30.4, 42.8]  (29909.999, 48000.0]   50.0   35.0   \n",
       "17      F                (30.4, 42.8]    (66000.0, 84000.0]   47.0   48.0   \n",
       "18      F                (30.4, 42.8]   (84000.0, 102000.0]   20.0   16.0   \n",
       "19      F  (17.936999999999998, 30.4]    (48000.0, 66000.0]   50.0   51.0   \n",
       "20      F  (17.936999999999998, 30.4]  (29909.999, 48000.0]   45.0   43.0   \n",
       "21      F  (17.936999999999998, 30.4]    (66000.0, 84000.0]   24.0   23.0   \n",
       "22      M                (55.2, 67.6]    (48000.0, 66000.0]  124.0  101.0   \n",
       "23      M                (55.2, 67.6]  (29909.999, 48000.0]   54.0   47.0   \n",
       "24      M                (55.2, 67.6]    (66000.0, 84000.0]  151.0  138.0   \n",
       "25      M                (55.2, 67.6]   (84000.0, 102000.0]  120.0   81.0   \n",
       "26      M                (55.2, 67.6]  (102000.0, 120000.0]   51.0   39.0   \n",
       "27      M                (42.8, 55.2]    (48000.0, 66000.0]  151.0  140.0   \n",
       "28      M                (42.8, 55.2]  (29909.999, 48000.0]   74.0   58.0   \n",
       "29      M                (42.8, 55.2]    (66000.0, 84000.0]  150.0  151.0   \n",
       "30      M                (42.8, 55.2]   (84000.0, 102000.0]   93.0   70.0   \n",
       "31      M                (42.8, 55.2]  (102000.0, 120000.0]   24.0   33.0   \n",
       "32      M                (67.6, 80.0]    (48000.0, 66000.0]   58.0   72.0   \n",
       "33      M                (67.6, 80.0]  (29909.999, 48000.0]   22.0   29.0   \n",
       "34      M                (67.6, 80.0]    (66000.0, 84000.0]   82.0   82.0   \n",
       "35      M                (67.6, 80.0]   (84000.0, 102000.0]   76.0   61.0   \n",
       "36      M                (67.6, 80.0]  (102000.0, 120000.0]   29.0   27.0   \n",
       "37      M                (30.4, 42.8]    (48000.0, 66000.0]  111.0   73.0   \n",
       "38      M                (30.4, 42.8]  (29909.999, 48000.0]   63.0   51.0   \n",
       "39      M                (30.4, 42.8]    (66000.0, 84000.0]   47.0   47.0   \n",
       "40      M                (30.4, 42.8]   (84000.0, 102000.0]   34.0   21.0   \n",
       "41      M  (17.936999999999998, 30.4]    (48000.0, 66000.0]   60.0   45.0   \n",
       "42      M  (17.936999999999998, 30.4]  (29909.999, 48000.0]   57.0   51.0   \n",
       "43      M  (17.936999999999998, 30.4]    (66000.0, 84000.0]   18.0   25.0   \n",
       "\n",
       "       B3     B4     D1     D2     D3     D4 Top_2_Offers  \n",
       "0   121.0  131.0  115.0  120.0  157.0  111.0     [D3, B4]  \n",
       "1    55.0   36.0   35.0   63.0   73.0   44.0     [D3, D2]  \n",
       "2   172.0  153.0  157.0  221.0  232.0  168.0     [D3, D2]  \n",
       "3   148.0  144.0  140.0  157.0  156.0  149.0     [B1, D2]  \n",
       "4    60.0   81.0   81.0   86.0   96.0   77.0     [D3, B2]  \n",
       "5   128.0  140.0  117.0  164.0  151.0  145.0     [D2, D3]  \n",
       "6    70.0   59.0   36.0   61.0   61.0   45.0     [B3, D2]  \n",
       "7   154.0  124.0  131.0  149.0  152.0  151.0     [B3, D3]  \n",
       "8   103.0  116.0   99.0  112.0  112.0   99.0     [B2, B1]  \n",
       "9    63.0   51.0   42.0   49.0   68.0   46.0     [D3, B3]  \n",
       "10   75.0   76.0   51.0   86.0   64.0   61.0     [D2, B4]  \n",
       "11   44.0   40.0   37.0   52.0   42.0   35.0     [D2, B3]  \n",
       "12  107.0   81.0   96.0  111.0  120.0  101.0     [B2, D3]  \n",
       "13   91.0   92.0  109.0   97.0   89.0   74.0     [D1, D2]  \n",
       "14   57.0   65.0   54.0   54.0   60.0   64.0     [B4, D4]  \n",
       "15   91.0   72.0   67.0  104.0   74.0   78.0     [D2, B3]  \n",
       "16   64.0   52.0   45.0   70.0   71.0   50.0     [D3, D2]  \n",
       "17   49.0   31.0   32.0   65.0   56.0   40.0     [D2, D3]  \n",
       "18   18.0   13.0   12.0   18.0   21.0   19.0     [D3, B1]  \n",
       "19   63.0   75.0   48.0   73.0   68.0   48.0     [B4, D2]  \n",
       "20   52.0   64.0   34.0   73.0   59.0   53.0     [D2, B4]  \n",
       "21   33.0   27.0   17.0   25.0   25.0   22.0     [B3, B4]  \n",
       "22  150.0  161.0   93.0  195.0  191.0  165.0     [D2, D3]  \n",
       "23   92.0  106.0   47.0  133.0  139.0   82.0     [D3, D2]  \n",
       "24  164.0  182.0  141.0  185.0  197.0  189.0     [D3, D4]  \n",
       "25  124.0   81.0  112.0   96.0  115.0  112.0     [B3, B1]  \n",
       "26   43.0   41.0   47.0   39.0   55.0   41.0     [D3, B1]  \n",
       "27  180.0  178.0  150.0  216.0  217.0  154.0     [D3, D2]  \n",
       "28  114.0   98.0   72.0  148.0  156.0   92.0     [D3, D2]  \n",
       "29  170.0  170.0  147.0  186.0  180.0  139.0     [D2, D3]  \n",
       "30   89.0   79.0   69.0   85.0  108.0   83.0     [D3, B1]  \n",
       "31   22.0   23.0   26.0   24.0   23.0   24.0     [B2, D1]  \n",
       "32   96.0   97.0   70.0  111.0  136.0   91.0     [D3, D2]  \n",
       "33   51.0   62.0   32.0   89.0   71.0   41.0     [D2, D3]  \n",
       "34   95.0   84.0   80.0  102.0  102.0  103.0     [D4, D2]  \n",
       "35   54.0   63.0   57.0   75.0   76.0   61.0     [B1, D3]  \n",
       "36   27.0   22.0   32.0   25.0   36.0   27.0     [D3, D1]  \n",
       "37  126.0  120.0   83.0  158.0  160.0  104.0     [D3, D2]  \n",
       "38  109.0   98.0   49.0  129.0  164.0   94.0     [D3, D2]  \n",
       "39   57.0   69.0   51.0   78.0   90.0   54.0     [D3, D2]  \n",
       "40   21.0   19.0   22.0   26.0   24.0   23.0     [B1, D2]  \n",
       "41   95.0  108.0   62.0  127.0  140.0   93.0     [D3, D2]  \n",
       "42  102.0  102.0   64.0  172.0  161.0   81.0     [D2, D3]  \n",
       "43   43.0   42.0   33.0   61.0   42.0   41.0     [D2, B3]  "
      ]
     },
     "execution_count": 1284,
     "metadata": {},
     "output_type": "execute_result"
    }
   ],
   "source": [
    "top_2_offers.reset_index()"
   ]
  },
  {
   "cell_type": "markdown",
   "metadata": {},
   "source": [
    "## Machine Learning Model"
   ]
  },
  {
   "cell_type": "markdown",
   "metadata": {},
   "source": [
    "### Model Data Prep"
   ]
  },
  {
   "cell_type": "code",
   "execution_count": 1373,
   "metadata": {},
   "outputs": [],
   "source": [
    "def ml_model_prep(df):\n",
    "    \"\"\"\n",
    "    1. Determines if a particular offer is bogo or discount\n",
    "    2. Drops all NaN values from the dataset\n",
    "    3. Groups the dataframe by customer_id and offer_type\n",
    "    \"\"\"\n",
    "    df = df.copy()\n",
    "    \n",
    "    #conditions for filtering\n",
    "    bogo_condition = ((df.offer_id == \"B1\") | (df.offer_id == \"B2\") | \n",
    "                      (df.offer_id == \"B3\") | (df.offer_id == \"B4\"))\n",
    "    discount_condition = ((df.offer_id == \"D1\") | (df.offer_id == \"D2\") | \n",
    "                          (df.offer_id == \"D3\") | (df.offer_id == \"D4\"))\n",
    "    \n",
    "    #Filling column offer_type based on conditions above\n",
    "    df.loc[bogo_condition,\"offer_type\"] = \"bogo\"\n",
    "    df.loc[discount_condition,\"offer_type\"] = \"discount\"\n",
    "    \n",
    "    #dropping all NaNs from the dataset\n",
    "    df.dropna(subset=['offer_id'] ,inplace=True)\n",
    "    \n",
    "    revised_df = df.groupby(['customer_id' , 'offer_type']).agg({\n",
    "         'event_offer_completed':sum,   \n",
    "         'event_offer_received': sum, \n",
    "         'event_offer_viewed': sum,  \n",
    "        'age':'last',\n",
    "        'became_member_on':'last',\n",
    "        'gender':'last',\n",
    "        'income':'last'\n",
    "    }).reset_index()\n",
    "    \n",
    "    return revised_df"
   ]
  },
  {
   "cell_type": "code",
   "execution_count": 1374,
   "metadata": {},
   "outputs": [],
   "source": [
    "model_prep = ml_model_prep(helper_df)"
   ]
  },
  {
   "cell_type": "code",
   "execution_count": 1375,
   "metadata": {},
   "outputs": [
    {
     "data": {
      "text/html": [
       "<div>\n",
       "<style scoped>\n",
       "    .dataframe tbody tr th:only-of-type {\n",
       "        vertical-align: middle;\n",
       "    }\n",
       "\n",
       "    .dataframe tbody tr th {\n",
       "        vertical-align: top;\n",
       "    }\n",
       "\n",
       "    .dataframe thead th {\n",
       "        text-align: right;\n",
       "    }\n",
       "</style>\n",
       "<table border=\"1\" class=\"dataframe\">\n",
       "  <thead>\n",
       "    <tr style=\"text-align: right;\">\n",
       "      <th></th>\n",
       "      <th>customer_id</th>\n",
       "      <th>offer_type</th>\n",
       "      <th>event_offer_completed</th>\n",
       "      <th>event_offer_received</th>\n",
       "      <th>event_offer_viewed</th>\n",
       "      <th>age</th>\n",
       "      <th>became_member_on</th>\n",
       "      <th>gender</th>\n",
       "      <th>income</th>\n",
       "    </tr>\n",
       "  </thead>\n",
       "  <tbody>\n",
       "    <tr>\n",
       "      <th>0</th>\n",
       "      <td>0009655768c64bdeb2e877511632db8f</td>\n",
       "      <td>bogo</td>\n",
       "      <td>1</td>\n",
       "      <td>1</td>\n",
       "      <td>1</td>\n",
       "      <td>33.0</td>\n",
       "      <td>2017-04-21</td>\n",
       "      <td>M</td>\n",
       "      <td>72000.0</td>\n",
       "    </tr>\n",
       "    <tr>\n",
       "      <th>1</th>\n",
       "      <td>0009655768c64bdeb2e877511632db8f</td>\n",
       "      <td>discount</td>\n",
       "      <td>2</td>\n",
       "      <td>2</td>\n",
       "      <td>1</td>\n",
       "      <td>33.0</td>\n",
       "      <td>2017-04-21</td>\n",
       "      <td>M</td>\n",
       "      <td>72000.0</td>\n",
       "    </tr>\n",
       "    <tr>\n",
       "      <th>2</th>\n",
       "      <td>0020c2b971eb4e9188eac86d93036a77</td>\n",
       "      <td>bogo</td>\n",
       "      <td>1</td>\n",
       "      <td>2</td>\n",
       "      <td>1</td>\n",
       "      <td>59.0</td>\n",
       "      <td>2016-03-04</td>\n",
       "      <td>F</td>\n",
       "      <td>90000.0</td>\n",
       "    </tr>\n",
       "    <tr>\n",
       "      <th>3</th>\n",
       "      <td>0020c2b971eb4e9188eac86d93036a77</td>\n",
       "      <td>discount</td>\n",
       "      <td>2</td>\n",
       "      <td>2</td>\n",
       "      <td>1</td>\n",
       "      <td>59.0</td>\n",
       "      <td>2016-03-04</td>\n",
       "      <td>F</td>\n",
       "      <td>90000.0</td>\n",
       "    </tr>\n",
       "    <tr>\n",
       "      <th>4</th>\n",
       "      <td>0020ccbbb6d84e358d3414a3ff76cffd</td>\n",
       "      <td>bogo</td>\n",
       "      <td>2</td>\n",
       "      <td>2</td>\n",
       "      <td>2</td>\n",
       "      <td>24.0</td>\n",
       "      <td>2016-11-11</td>\n",
       "      <td>F</td>\n",
       "      <td>60000.0</td>\n",
       "    </tr>\n",
       "  </tbody>\n",
       "</table>\n",
       "</div>"
      ],
      "text/plain": [
       "                        customer_id offer_type  event_offer_completed  \\\n",
       "0  0009655768c64bdeb2e877511632db8f       bogo                      1   \n",
       "1  0009655768c64bdeb2e877511632db8f   discount                      2   \n",
       "2  0020c2b971eb4e9188eac86d93036a77       bogo                      1   \n",
       "3  0020c2b971eb4e9188eac86d93036a77   discount                      2   \n",
       "4  0020ccbbb6d84e358d3414a3ff76cffd       bogo                      2   \n",
       "\n",
       "   event_offer_received  event_offer_viewed   age became_member_on gender  \\\n",
       "0                     1                   1  33.0       2017-04-21      M   \n",
       "1                     2                   1  33.0       2017-04-21      M   \n",
       "2                     2                   1  59.0       2016-03-04      F   \n",
       "3                     2                   1  59.0       2016-03-04      F   \n",
       "4                     2                   2  24.0       2016-11-11      F   \n",
       "\n",
       "    income  \n",
       "0  72000.0  \n",
       "1  72000.0  \n",
       "2  90000.0  \n",
       "3  90000.0  \n",
       "4  60000.0  "
      ]
     },
     "execution_count": 1375,
     "metadata": {},
     "output_type": "execute_result"
    }
   ],
   "source": [
    "model_prep.head()"
   ]
  },
  {
   "cell_type": "code",
   "execution_count": 1376,
   "metadata": {},
   "outputs": [],
   "source": [
    "def ml_model_data(df):\n",
    "    \"\"\"\n",
    "    1. Adds columns for bogo received, completed and discount received, completed\n",
    "    2. Groups by customer id\n",
    "    3. Adds columns for Bogo Conversion and Discount Conversion %\n",
    "    4. Adds columns (binary) for a customer if customer is impacted by bogo or discount offer\n",
    "    \"\"\"\n",
    "    #conditions for filtering\n",
    "    bogo_c = (df.offer_type == \"bogo\")\n",
    "    discount_c = (df.offer_type == \"discount\")\n",
    "    \n",
    "    #Creating columns to differentiate between bogo and discount offers\n",
    "    df.loc[:,\"bogo_completed\"] = 0\n",
    "    df.loc[:,\"bogo_received\"] = 0\n",
    "    df.loc[:,\"discount_completed\"] = 0\n",
    "    df.loc[:,\"discount_received\"] = 0\n",
    "    \n",
    "    #Filling up the columns based on conditions above\n",
    "    df.loc[bogo_c, \"bogo_received\"] = df.event_offer_received\n",
    "    df.loc[bogo_c, \"bogo_completed\"] = df.event_offer_completed\n",
    "    df.loc[discount_c, \"discount_received\"] = df.event_offer_received\n",
    "    df.loc[discount_c, \"discount_completed\"] = df.event_offer_completed\n",
    "    \n",
    "    revised_df = df.groupby(\"customer_id\").agg({\n",
    "        'age':'last',\n",
    "        'became_member_on':'last',\n",
    "        'gender':'last',\n",
    "        'income':'last', \n",
    "        'bogo_received':sum,\n",
    "        'bogo_completed':sum,\n",
    "        'discount_received':sum,\n",
    "        'discount_completed':sum\n",
    "    }).reset_index()\n",
    "    \n",
    "    #Creating Bogo and Discount Completion Columns\n",
    "    revised_df.loc[:,\"Bogo_%\"] = revised_df.bogo_completed.div(revised_df.bogo_received.where(revised_df.bogo_received != 0, np.nan))*100\n",
    "    revised_df.loc[:,'Discount_%'] = revised_df.discount_completed.div(revised_df.discount_received.where(revised_df.discount_received != 0, np.nan))*100\n",
    "    revised_df.fillna(0,inplace = True)\n",
    "    \n",
    "    #Determining if a customer is influenced by a bogo offer or a discount offer\n",
    "    bogo_impact_c = (revised_df[\"Bogo_%\"] >= 80.0)\n",
    "    discount_impact_c = (revised_df[\"Discount_%\"] >= 80.0)\n",
    "    revised_df.loc[:,\"bogo_impact\"] = 0\n",
    "    revised_df.loc[:,\"discount_impact\"] = 0\n",
    "    revised_df.loc[bogo_impact_c, \"bogo_impact\"] = 1\n",
    "    revised_df.loc[discount_impact_c, \"discount_impact\"] = 1\n",
    "    \n",
    "    #Refining columns for the machine learning model\n",
    "    revised_df.age = revised_df.age.astype(\"int\")\n",
    "    revised_df.income = revised_df.income.astype(\"int\")\n",
    "    revised_df.loc[:,\"month\"] = revised_df.became_member_on.dt.month\n",
    "    revised_df.loc[:,\"year\"] = revised_df.became_member_on.dt.year\n",
    "    revised_df = pd.get_dummies(revised_df , columns=['gender'])\n",
    "    \n",
    "    return revised_df"
   ]
  },
  {
   "cell_type": "code",
   "execution_count": 1377,
   "metadata": {},
   "outputs": [],
   "source": [
    "model_data = ml_model_data(model_prep)"
   ]
  },
  {
   "cell_type": "code",
   "execution_count": 1378,
   "metadata": {},
   "outputs": [
    {
     "data": {
      "text/html": [
       "<div>\n",
       "<style scoped>\n",
       "    .dataframe tbody tr th:only-of-type {\n",
       "        vertical-align: middle;\n",
       "    }\n",
       "\n",
       "    .dataframe tbody tr th {\n",
       "        vertical-align: top;\n",
       "    }\n",
       "\n",
       "    .dataframe thead th {\n",
       "        text-align: right;\n",
       "    }\n",
       "</style>\n",
       "<table border=\"1\" class=\"dataframe\">\n",
       "  <thead>\n",
       "    <tr style=\"text-align: right;\">\n",
       "      <th></th>\n",
       "      <th>customer_id</th>\n",
       "      <th>age</th>\n",
       "      <th>became_member_on</th>\n",
       "      <th>income</th>\n",
       "      <th>bogo_received</th>\n",
       "      <th>bogo_completed</th>\n",
       "      <th>discount_received</th>\n",
       "      <th>discount_completed</th>\n",
       "      <th>Bogo_%</th>\n",
       "      <th>Discount_%</th>\n",
       "      <th>bogo_impact</th>\n",
       "      <th>discount_impact</th>\n",
       "      <th>month</th>\n",
       "      <th>year</th>\n",
       "      <th>gender_F</th>\n",
       "      <th>gender_M</th>\n",
       "    </tr>\n",
       "  </thead>\n",
       "  <tbody>\n",
       "    <tr>\n",
       "      <th>0</th>\n",
       "      <td>0009655768c64bdeb2e877511632db8f</td>\n",
       "      <td>33</td>\n",
       "      <td>2017-04-21</td>\n",
       "      <td>72000</td>\n",
       "      <td>1</td>\n",
       "      <td>1</td>\n",
       "      <td>2</td>\n",
       "      <td>2</td>\n",
       "      <td>100.0</td>\n",
       "      <td>100.0</td>\n",
       "      <td>1</td>\n",
       "      <td>1</td>\n",
       "      <td>4</td>\n",
       "      <td>2017</td>\n",
       "      <td>0</td>\n",
       "      <td>1</td>\n",
       "    </tr>\n",
       "    <tr>\n",
       "      <th>1</th>\n",
       "      <td>0020c2b971eb4e9188eac86d93036a77</td>\n",
       "      <td>59</td>\n",
       "      <td>2016-03-04</td>\n",
       "      <td>90000</td>\n",
       "      <td>2</td>\n",
       "      <td>1</td>\n",
       "      <td>2</td>\n",
       "      <td>2</td>\n",
       "      <td>50.0</td>\n",
       "      <td>100.0</td>\n",
       "      <td>0</td>\n",
       "      <td>1</td>\n",
       "      <td>3</td>\n",
       "      <td>2016</td>\n",
       "      <td>1</td>\n",
       "      <td>0</td>\n",
       "    </tr>\n",
       "    <tr>\n",
       "      <th>2</th>\n",
       "      <td>0020ccbbb6d84e358d3414a3ff76cffd</td>\n",
       "      <td>24</td>\n",
       "      <td>2016-11-11</td>\n",
       "      <td>60000</td>\n",
       "      <td>2</td>\n",
       "      <td>2</td>\n",
       "      <td>1</td>\n",
       "      <td>1</td>\n",
       "      <td>100.0</td>\n",
       "      <td>100.0</td>\n",
       "      <td>1</td>\n",
       "      <td>1</td>\n",
       "      <td>11</td>\n",
       "      <td>2016</td>\n",
       "      <td>1</td>\n",
       "      <td>0</td>\n",
       "    </tr>\n",
       "    <tr>\n",
       "      <th>3</th>\n",
       "      <td>003d66b6608740288d6cc97a6903f4f0</td>\n",
       "      <td>26</td>\n",
       "      <td>2017-06-21</td>\n",
       "      <td>73000</td>\n",
       "      <td>0</td>\n",
       "      <td>0</td>\n",
       "      <td>3</td>\n",
       "      <td>3</td>\n",
       "      <td>0.0</td>\n",
       "      <td>100.0</td>\n",
       "      <td>0</td>\n",
       "      <td>1</td>\n",
       "      <td>6</td>\n",
       "      <td>2017</td>\n",
       "      <td>1</td>\n",
       "      <td>0</td>\n",
       "    </tr>\n",
       "    <tr>\n",
       "      <th>4</th>\n",
       "      <td>00426fe3ffde4c6b9cb9ad6d077a13ea</td>\n",
       "      <td>19</td>\n",
       "      <td>2016-08-09</td>\n",
       "      <td>65000</td>\n",
       "      <td>0</td>\n",
       "      <td>0</td>\n",
       "      <td>4</td>\n",
       "      <td>1</td>\n",
       "      <td>0.0</td>\n",
       "      <td>25.0</td>\n",
       "      <td>0</td>\n",
       "      <td>0</td>\n",
       "      <td>8</td>\n",
       "      <td>2016</td>\n",
       "      <td>1</td>\n",
       "      <td>0</td>\n",
       "    </tr>\n",
       "  </tbody>\n",
       "</table>\n",
       "</div>"
      ],
      "text/plain": [
       "                        customer_id  age became_member_on  income  \\\n",
       "0  0009655768c64bdeb2e877511632db8f   33       2017-04-21   72000   \n",
       "1  0020c2b971eb4e9188eac86d93036a77   59       2016-03-04   90000   \n",
       "2  0020ccbbb6d84e358d3414a3ff76cffd   24       2016-11-11   60000   \n",
       "3  003d66b6608740288d6cc97a6903f4f0   26       2017-06-21   73000   \n",
       "4  00426fe3ffde4c6b9cb9ad6d077a13ea   19       2016-08-09   65000   \n",
       "\n",
       "   bogo_received  bogo_completed  discount_received  discount_completed  \\\n",
       "0              1               1                  2                   2   \n",
       "1              2               1                  2                   2   \n",
       "2              2               2                  1                   1   \n",
       "3              0               0                  3                   3   \n",
       "4              0               0                  4                   1   \n",
       "\n",
       "   Bogo_%  Discount_%  bogo_impact  discount_impact  month  year  gender_F  \\\n",
       "0   100.0       100.0            1                1      4  2017         0   \n",
       "1    50.0       100.0            0                1      3  2016         1   \n",
       "2   100.0       100.0            1                1     11  2016         1   \n",
       "3     0.0       100.0            0                1      6  2017         1   \n",
       "4     0.0        25.0            0                0      8  2016         1   \n",
       "\n",
       "   gender_M  \n",
       "0         1  \n",
       "1         0  \n",
       "2         0  \n",
       "3         0  \n",
       "4         0  "
      ]
     },
     "execution_count": 1378,
     "metadata": {},
     "output_type": "execute_result"
    }
   ],
   "source": [
    "model_data.head()"
   ]
  },
  {
   "cell_type": "markdown",
   "metadata": {},
   "source": [
    "### Split into Train and Test Datasets"
   ]
  },
  {
   "cell_type": "code",
   "execution_count": 1379,
   "metadata": {},
   "outputs": [],
   "source": [
    "final_model_data = model_data.loc[:,[\"age\", \"gender_F\", \"gender_M\", \"year\", \n",
    "                                     \"month\", \"income\", \"bogo_impact\", \"discount_impact\"]]"
   ]
  },
  {
   "cell_type": "code",
   "execution_count": 1380,
   "metadata": {},
   "outputs": [],
   "source": [
    "X = final_model_data.drop(columns = [\"bogo_impact\", \"discount_impact\"])\n",
    "y_bogo = final_model_data.bogo_impact\n",
    "y_discount = final_model_data.discount_impact"
   ]
  },
  {
   "cell_type": "code",
   "execution_count": 1382,
   "metadata": {},
   "outputs": [],
   "source": [
    "X_train, X_test, y_bogo_train, y_bogo_test = train_test_split(X, y_bogo, random_state=42)\n",
    "X_train, X_test, y_discount_train, y_discount_test = train_test_split(X, y_discount, random_state=42)"
   ]
  },
  {
   "cell_type": "markdown",
   "metadata": {},
   "source": [
    "### Model 1"
   ]
  },
  {
   "cell_type": "code",
   "execution_count": 1383,
   "metadata": {},
   "outputs": [
    {
     "data": {
      "text/plain": [
       "KNeighborsClassifier(algorithm='auto', leaf_size=30, metric='minkowski',\n",
       "                     metric_params=None, n_jobs=None, n_neighbors=5, p=2,\n",
       "                     weights='uniform')"
      ]
     },
     "execution_count": 1383,
     "metadata": {},
     "output_type": "execute_result"
    }
   ],
   "source": [
    "#Traning the model\n",
    "model1_bogo = KNeighborsClassifier()\n",
    "model1_discount = KNeighborsClassifier()\n",
    "model1_bogo.fit(X_train, y_bogo_train)\n",
    "model1_discount.fit(X_train, y_discount_train)"
   ]
  },
  {
   "cell_type": "code",
   "execution_count": 1403,
   "metadata": {},
   "outputs": [],
   "source": [
    "#Testing the model\n",
    "y_bogo_pred = model1_bogo.predict(X_test)\n",
    "y_discount_pred = model1_discount.predict(X_test)"
   ]
  },
  {
   "cell_type": "code",
   "execution_count": 1404,
   "metadata": {},
   "outputs": [
    {
     "name": "stdout",
     "output_type": "stream",
     "text": [
      "              precision    recall  f1-score   support\n",
      "\n",
      "           0       0.64      0.70      0.67      2184\n",
      "           1       0.48      0.41      0.44      1455\n",
      "\n",
      "    accuracy                           0.59      3639\n",
      "   macro avg       0.56      0.56      0.56      3639\n",
      "weighted avg       0.58      0.59      0.58      3639\n",
      "\n",
      "              precision    recall  f1-score   support\n",
      "\n",
      "           0       0.59      0.56      0.58      1979\n",
      "           1       0.51      0.53      0.52      1660\n",
      "\n",
      "    accuracy                           0.55      3639\n",
      "   macro avg       0.55      0.55      0.55      3639\n",
      "weighted avg       0.55      0.55      0.55      3639\n",
      "\n"
     ]
    }
   ],
   "source": [
    "#Printing out the metrics of the model\n",
    "print(classification_report(y_bogo_test, y_bogo_pred))\n",
    "print(classification_report(y_discount_test, y_discount_pred))"
   ]
  },
  {
   "cell_type": "markdown",
   "metadata": {},
   "source": [
    "### Model 2"
   ]
  },
  {
   "cell_type": "code",
   "execution_count": 1405,
   "metadata": {},
   "outputs": [
    {
     "data": {
      "text/plain": [
       "SVC(C=1.0, break_ties=False, cache_size=200, class_weight=None, coef0=0.0,\n",
       "    decision_function_shape='ovr', degree=3, gamma='scale', kernel='rbf',\n",
       "    max_iter=-1, probability=False, random_state=None, shrinking=True,\n",
       "    tol=0.001, verbose=False)"
      ]
     },
     "execution_count": 1405,
     "metadata": {},
     "output_type": "execute_result"
    }
   ],
   "source": [
    "#Training the model\n",
    "model2_bogo = SVC()\n",
    "model2_discount = SVC()\n",
    "model2_bogo.fit(X_train, y_bogo_train)\n",
    "model2_discount.fit(X_train, y_discount_train)"
   ]
  },
  {
   "cell_type": "code",
   "execution_count": 1408,
   "metadata": {},
   "outputs": [],
   "source": [
    "#Testing the model\n",
    "y_bogo_pred = model2_bogo.predict(X_test)\n",
    "y_discount_pred = model2_discount.predict(X_test)"
   ]
  },
  {
   "cell_type": "code",
   "execution_count": 1409,
   "metadata": {},
   "outputs": [
    {
     "name": "stdout",
     "output_type": "stream",
     "text": [
      "              precision    recall  f1-score   support\n",
      "\n",
      "           0       0.64      0.84      0.73      2184\n",
      "           1       0.55      0.29      0.38      1455\n",
      "\n",
      "    accuracy                           0.62      3639\n",
      "   macro avg       0.59      0.57      0.55      3639\n",
      "weighted avg       0.60      0.62      0.59      3639\n",
      "\n",
      "              precision    recall  f1-score   support\n",
      "\n",
      "           0       0.61      0.65      0.63      1979\n",
      "           1       0.55      0.50      0.52      1660\n",
      "\n",
      "    accuracy                           0.58      3639\n",
      "   macro avg       0.58      0.58      0.58      3639\n",
      "weighted avg       0.58      0.58      0.58      3639\n",
      "\n"
     ]
    }
   ],
   "source": [
    "#Printing out the metrics of the model\n",
    "print(classification_report(y_bogo_test, y_bogo_pred))\n",
    "print(classification_report(y_discount_test, y_discount_pred))"
   ]
  },
  {
   "cell_type": "code",
   "execution_count": 1435,
   "metadata": {},
   "outputs": [],
   "source": [
    "def offer_response_prediction(customer_info):\n",
    "    \n",
    "    predict_b = model2_bogo.predict(customer_info.values)[1]\n",
    "    predict_d = model2_discount.predict(customer_info.values)[1]\n",
    "    \n",
    "    if (predict_bogo == 1) & (predict_discount == 1):\n",
    "        print(\"This customer will respond to bogo as well as a discount offer\")\n",
    "    \n",
    "    elif (predict_bogo == 1) & (predict_discount == 0):\n",
    "        print(\"This customer will respond to bogo but not to a discount offer\")\n",
    "        \n",
    "    elif (predict_bogo == 0) & (predict_discount == 1):\n",
    "        print(\"This customer will respond to discount but not to a bogo offer\")\n",
    "        \n",
    "    else:\n",
    "        print(\"This customer will neither respond to bogo nor to a discount offer\")"
   ]
  },
  {
   "cell_type": "code",
   "execution_count": 1434,
   "metadata": {},
   "outputs": [
    {
     "name": "stdout",
     "output_type": "stream",
     "text": [
      "This customer will respond to bogo as well as a discount offer\n"
     ]
    }
   ],
   "source": [
    "offer_response_prediction(X_test[:])"
   ]
  },
  {
   "cell_type": "code",
   "execution_count": null,
   "metadata": {},
   "outputs": [],
   "source": []
  }
 ],
 "metadata": {
  "kernelspec": {
   "display_name": "Python 3",
   "language": "python",
   "name": "python3"
  },
  "language_info": {
   "codemirror_mode": {
    "name": "ipython",
    "version": 3
   },
   "file_extension": ".py",
   "mimetype": "text/x-python",
   "name": "python",
   "nbconvert_exporter": "python",
   "pygments_lexer": "ipython3",
   "version": "3.7.6"
  }
 },
 "nbformat": 4,
 "nbformat_minor": 2
}
